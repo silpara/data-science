{
 "cells": [
  {
   "cell_type": "markdown",
   "metadata": {},
   "source": [
    "# nnlm-en-dim128 + Nearest Neighbour Search using SimpleNeighbors[annoy]\n",
    "\n",
    "Tensorflow 2.0\n",
    "\n",
    "### Data\n",
    "Data used in this tutorial is taken from the training set of [Toxic Comment Classification Challenge](https://www.kaggle.com/c/jigsaw-toxic-comment-classification-challenge/data) on Kaggle.\n",
    "\n",
    "### Pretrained model\n",
    "Download and unzip the model [nnlm-en-dim128](https://tfhub.dev/google/nnlm-en-dim128/2) at a convenient location.\n",
    "\n",
    "Note that I have saved the model at /Users/abhay.shukla/nnlm/2 and therefore module_url is set to that directory."
   ]
  },
  {
   "cell_type": "markdown",
   "metadata": {},
   "source": [
    "### Import libraries to use"
   ]
  },
  {
   "cell_type": "code",
   "execution_count": 1,
   "metadata": {},
   "outputs": [],
   "source": [
    "import tensorflow as tf\n",
    "import tensorflow_hub as hub\n",
    "import tensorflow_text\n",
    "import matplotlib.pyplot as plt\n",
    "import numpy as np\n",
    "import pandas as pd\n",
    "import re\n",
    "import os"
   ]
  },
  {
   "cell_type": "code",
   "execution_count": 2,
   "metadata": {},
   "outputs": [],
   "source": [
    "import bokeh\n",
    "import bokeh.models\n",
    "import bokeh.plotting\n",
    "from tensorflow_text import SentencepieceTokenizer\n",
    "import sklearn.metrics.pairwise\n",
    "from simpleneighbors import SimpleNeighbors\n",
    "from tqdm import tqdm\n",
    "from tqdm import trange"
   ]
  },
  {
   "cell_type": "markdown",
   "metadata": {},
   "source": [
    "### Load pretrained model and define function which returns the embedding"
   ]
  },
  {
   "cell_type": "code",
   "execution_count": 3,
   "metadata": {},
   "outputs": [],
   "source": [
    "module_url = '/Users/abhay.shukla/nnlm/2'\n",
    "model = hub.load(module_url)\n",
    "\n",
    "def embed_text(input):\n",
    "    return model(input)"
   ]
  },
  {
   "cell_type": "markdown",
   "metadata": {},
   "source": [
    "### Test model and visualize embedding similarity on a few manually selected sentences"
   ]
  },
  {
   "cell_type": "code",
   "execution_count": 4,
   "metadata": {},
   "outputs": [],
   "source": [
    "# Multilingual example\n",
    "multilingual_example = [\"Willkommen zu einfachen, aber\", \"verrassend krachtige\", \"multilingüe\", \"compréhension du langage naturel\", \"модели.\", \"大家是什么意思\" , \"보다 중요한\", \".اللغة التي يتحدثونها\"]\n",
    "multilingual_example_in_en =  [\"Welcome to simple yet\", \"surprisingly powerful\", \"multilingual\", \"natural language understanding\", \"models.\", \"What people mean\", \"matters more than\", \"the language they speak.\"]\n"
   ]
  },
  {
   "cell_type": "code",
   "execution_count": 5,
   "metadata": {},
   "outputs": [],
   "source": [
    "multilingual_result = embed_text(multilingual_example)\n",
    "multilingual_in_en_result = embed_text(multilingual_example_in_en)"
   ]
  },
  {
   "cell_type": "code",
   "execution_count": 6,
   "metadata": {},
   "outputs": [],
   "source": [
    "def visualize_similarity(embeddings_1, embeddings_2, labels_1, labels_2, plot_title, plot_width=1200, plot_height=600,\n",
    "                         xaxis_font_size='12pt', yaxis_font_size='12pt'):\n",
    "\n",
    "    assert len(embeddings_1) == len(labels_1)\n",
    "    assert len(embeddings_2) == len(labels_2)\n",
    "\n",
    "    # arccos based text similarity (Yang et al. 2019; Cer et al. 2019)\n",
    "    sim = 1 - np.arccos(sklearn.metrics.pairwise.cosine_similarity(embeddings_1,embeddings_2))/np.pi\n",
    "\n",
    "    embeddings_1_col, embeddings_2_col, sim_col = [], [], []\n",
    "    for i in range(len(embeddings_1)):\n",
    "        for j in range(len(embeddings_2)):\n",
    "            embeddings_1_col.append(labels_1[i])\n",
    "            embeddings_2_col.append(labels_2[j])\n",
    "            sim_col.append(sim[i][j])\n",
    "    df = pd.DataFrame(zip(embeddings_1_col, embeddings_2_col, sim_col), columns=['embeddings_1', 'embeddings_2', 'sim'])\n",
    "\n",
    "    mapper = bokeh.models.LinearColorMapper( palette=[*reversed(bokeh.palettes.YlOrRd[9])], low=df.sim.min(),\n",
    "      high=df.sim.max())\n",
    "\n",
    "    p = bokeh.plotting.figure(title=plot_title, x_range=labels_1,\n",
    "                            x_axis_location=\"above\",\n",
    "                            y_range=[*reversed(labels_2)],\n",
    "                            plot_width=plot_width, plot_height=plot_height,\n",
    "                            tools=\"save\",toolbar_location='below', \n",
    "                              tooltips=[('pair', '@embeddings_1 ||| @embeddings_2'), ('sim', '@sim')])\n",
    "    p.rect(x=\"embeddings_1\", y=\"embeddings_2\", width=1, height=1, source=df, \n",
    "           fill_color={'field': 'sim', 'transform': mapper}, line_color=None)\n",
    "\n",
    "    p.title.text_font_size = '12pt'\n",
    "    p.axis.axis_line_color = None\n",
    "    p.axis.major_tick_line_color = None\n",
    "    p.axis.major_label_standoff = 16\n",
    "    p.xaxis.major_label_text_font_size = xaxis_font_size\n",
    "    p.xaxis.major_label_orientation = 0.25 * np.pi\n",
    "    p.yaxis.major_label_text_font_size = yaxis_font_size\n",
    "    p.min_border_right = 300\n",
    "\n",
    "    bokeh.io.output_notebook()\n",
    "    bokeh.io.show(p)\n"
   ]
  },
  {
   "cell_type": "code",
   "execution_count": 7,
   "metadata": {},
   "outputs": [
    {
     "data": {
      "text/html": [
       "\n",
       "    <div class=\"bk-root\">\n",
       "        <a href=\"https://bokeh.pydata.org\" target=\"_blank\" class=\"bk-logo bk-logo-small bk-logo-notebook\"></a>\n",
       "        <span id=\"e9ee9046-1491-4d0c-8c11-c2adba457d0c\">Loading BokehJS ...</span>\n",
       "    </div>"
      ]
     },
     "metadata": {},
     "output_type": "display_data"
    },
    {
     "data": {
      "application/javascript": [
       "\n",
       "(function(root) {\n",
       "  function now() {\n",
       "    return new Date();\n",
       "  }\n",
       "\n",
       "  var force = true;\n",
       "\n",
       "  if (typeof (root._bokeh_onload_callbacks) === \"undefined\" || force === true) {\n",
       "    root._bokeh_onload_callbacks = [];\n",
       "    root._bokeh_is_loading = undefined;\n",
       "  }\n",
       "\n",
       "  var JS_MIME_TYPE = 'application/javascript';\n",
       "  var HTML_MIME_TYPE = 'text/html';\n",
       "  var EXEC_MIME_TYPE = 'application/vnd.bokehjs_exec.v0+json';\n",
       "  var CLASS_NAME = 'output_bokeh rendered_html';\n",
       "\n",
       "  /**\n",
       "   * Render data to the DOM node\n",
       "   */\n",
       "  function render(props, node) {\n",
       "    var script = document.createElement(\"script\");\n",
       "    node.appendChild(script);\n",
       "  }\n",
       "\n",
       "  /**\n",
       "   * Handle when an output is cleared or removed\n",
       "   */\n",
       "  function handleClearOutput(event, handle) {\n",
       "    var cell = handle.cell;\n",
       "\n",
       "    var id = cell.output_area._bokeh_element_id;\n",
       "    var server_id = cell.output_area._bokeh_server_id;\n",
       "    // Clean up Bokeh references\n",
       "    if (id != null && id in Bokeh.index) {\n",
       "      Bokeh.index[id].model.document.clear();\n",
       "      delete Bokeh.index[id];\n",
       "    }\n",
       "\n",
       "    if (server_id !== undefined) {\n",
       "      // Clean up Bokeh references\n",
       "      var cmd = \"from bokeh.io.state import curstate; print(curstate().uuid_to_server['\" + server_id + \"'].get_sessions()[0].document.roots[0]._id)\";\n",
       "      cell.notebook.kernel.execute(cmd, {\n",
       "        iopub: {\n",
       "          output: function(msg) {\n",
       "            var id = msg.content.text.trim();\n",
       "            if (id in Bokeh.index) {\n",
       "              Bokeh.index[id].model.document.clear();\n",
       "              delete Bokeh.index[id];\n",
       "            }\n",
       "          }\n",
       "        }\n",
       "      });\n",
       "      // Destroy server and session\n",
       "      var cmd = \"import bokeh.io.notebook as ion; ion.destroy_server('\" + server_id + \"')\";\n",
       "      cell.notebook.kernel.execute(cmd);\n",
       "    }\n",
       "  }\n",
       "\n",
       "  /**\n",
       "   * Handle when a new output is added\n",
       "   */\n",
       "  function handleAddOutput(event, handle) {\n",
       "    var output_area = handle.output_area;\n",
       "    var output = handle.output;\n",
       "\n",
       "    // limit handleAddOutput to display_data with EXEC_MIME_TYPE content only\n",
       "    if ((output.output_type != \"display_data\") || (!output.data.hasOwnProperty(EXEC_MIME_TYPE))) {\n",
       "      return\n",
       "    }\n",
       "\n",
       "    var toinsert = output_area.element.find(\".\" + CLASS_NAME.split(' ')[0]);\n",
       "\n",
       "    if (output.metadata[EXEC_MIME_TYPE][\"id\"] !== undefined) {\n",
       "      toinsert[toinsert.length - 1].firstChild.textContent = output.data[JS_MIME_TYPE];\n",
       "      // store reference to embed id on output_area\n",
       "      output_area._bokeh_element_id = output.metadata[EXEC_MIME_TYPE][\"id\"];\n",
       "    }\n",
       "    if (output.metadata[EXEC_MIME_TYPE][\"server_id\"] !== undefined) {\n",
       "      var bk_div = document.createElement(\"div\");\n",
       "      bk_div.innerHTML = output.data[HTML_MIME_TYPE];\n",
       "      var script_attrs = bk_div.children[0].attributes;\n",
       "      for (var i = 0; i < script_attrs.length; i++) {\n",
       "        toinsert[toinsert.length - 1].firstChild.setAttribute(script_attrs[i].name, script_attrs[i].value);\n",
       "      }\n",
       "      // store reference to server id on output_area\n",
       "      output_area._bokeh_server_id = output.metadata[EXEC_MIME_TYPE][\"server_id\"];\n",
       "    }\n",
       "  }\n",
       "\n",
       "  function register_renderer(events, OutputArea) {\n",
       "\n",
       "    function append_mime(data, metadata, element) {\n",
       "      // create a DOM node to render to\n",
       "      var toinsert = this.create_output_subarea(\n",
       "        metadata,\n",
       "        CLASS_NAME,\n",
       "        EXEC_MIME_TYPE\n",
       "      );\n",
       "      this.keyboard_manager.register_events(toinsert);\n",
       "      // Render to node\n",
       "      var props = {data: data, metadata: metadata[EXEC_MIME_TYPE]};\n",
       "      render(props, toinsert[toinsert.length - 1]);\n",
       "      element.append(toinsert);\n",
       "      return toinsert\n",
       "    }\n",
       "\n",
       "    /* Handle when an output is cleared or removed */\n",
       "    events.on('clear_output.CodeCell', handleClearOutput);\n",
       "    events.on('delete.Cell', handleClearOutput);\n",
       "\n",
       "    /* Handle when a new output is added */\n",
       "    events.on('output_added.OutputArea', handleAddOutput);\n",
       "\n",
       "    /**\n",
       "     * Register the mime type and append_mime function with output_area\n",
       "     */\n",
       "    OutputArea.prototype.register_mime_type(EXEC_MIME_TYPE, append_mime, {\n",
       "      /* Is output safe? */\n",
       "      safe: true,\n",
       "      /* Index of renderer in `output_area.display_order` */\n",
       "      index: 0\n",
       "    });\n",
       "  }\n",
       "\n",
       "  // register the mime type if in Jupyter Notebook environment and previously unregistered\n",
       "  if (root.Jupyter !== undefined) {\n",
       "    var events = require('base/js/events');\n",
       "    var OutputArea = require('notebook/js/outputarea').OutputArea;\n",
       "\n",
       "    if (OutputArea.prototype.mime_types().indexOf(EXEC_MIME_TYPE) == -1) {\n",
       "      register_renderer(events, OutputArea);\n",
       "    }\n",
       "  }\n",
       "\n",
       "  \n",
       "  if (typeof (root._bokeh_timeout) === \"undefined\" || force === true) {\n",
       "    root._bokeh_timeout = Date.now() + 5000;\n",
       "    root._bokeh_failed_load = false;\n",
       "  }\n",
       "\n",
       "  var NB_LOAD_WARNING = {'data': {'text/html':\n",
       "     \"<div style='background-color: #fdd'>\\n\"+\n",
       "     \"<p>\\n\"+\n",
       "     \"BokehJS does not appear to have successfully loaded. If loading BokehJS from CDN, this \\n\"+\n",
       "     \"may be due to a slow or bad network connection. Possible fixes:\\n\"+\n",
       "     \"</p>\\n\"+\n",
       "     \"<ul>\\n\"+\n",
       "     \"<li>re-rerun `output_notebook()` to attempt to load from CDN again, or</li>\\n\"+\n",
       "     \"<li>use INLINE resources instead, as so:</li>\\n\"+\n",
       "     \"</ul>\\n\"+\n",
       "     \"<code>\\n\"+\n",
       "     \"from bokeh.resources import INLINE\\n\"+\n",
       "     \"output_notebook(resources=INLINE)\\n\"+\n",
       "     \"</code>\\n\"+\n",
       "     \"</div>\"}};\n",
       "\n",
       "  function display_loaded() {\n",
       "    var el = document.getElementById(\"e9ee9046-1491-4d0c-8c11-c2adba457d0c\");\n",
       "    if (el != null) {\n",
       "      el.textContent = \"BokehJS is loading...\";\n",
       "    }\n",
       "    if (root.Bokeh !== undefined) {\n",
       "      if (el != null) {\n",
       "        el.textContent = \"BokehJS \" + root.Bokeh.version + \" successfully loaded.\";\n",
       "      }\n",
       "    } else if (Date.now() < root._bokeh_timeout) {\n",
       "      setTimeout(display_loaded, 100)\n",
       "    }\n",
       "  }\n",
       "\n",
       "\n",
       "  function run_callbacks() {\n",
       "    try {\n",
       "      root._bokeh_onload_callbacks.forEach(function(callback) { callback() });\n",
       "    }\n",
       "    finally {\n",
       "      delete root._bokeh_onload_callbacks\n",
       "    }\n",
       "    console.info(\"Bokeh: all callbacks have finished\");\n",
       "  }\n",
       "\n",
       "  function load_libs(js_urls, callback) {\n",
       "    root._bokeh_onload_callbacks.push(callback);\n",
       "    if (root._bokeh_is_loading > 0) {\n",
       "      console.log(\"Bokeh: BokehJS is being loaded, scheduling callback at\", now());\n",
       "      return null;\n",
       "    }\n",
       "    if (js_urls == null || js_urls.length === 0) {\n",
       "      run_callbacks();\n",
       "      return null;\n",
       "    }\n",
       "    console.log(\"Bokeh: BokehJS not loaded, scheduling load and callback at\", now());\n",
       "    root._bokeh_is_loading = js_urls.length;\n",
       "    for (var i = 0; i < js_urls.length; i++) {\n",
       "      var url = js_urls[i];\n",
       "      var s = document.createElement('script');\n",
       "      s.src = url;\n",
       "      s.async = false;\n",
       "      s.onreadystatechange = s.onload = function() {\n",
       "        root._bokeh_is_loading--;\n",
       "        if (root._bokeh_is_loading === 0) {\n",
       "          console.log(\"Bokeh: all BokehJS libraries loaded\");\n",
       "          run_callbacks()\n",
       "        }\n",
       "      };\n",
       "      s.onerror = function() {\n",
       "        console.warn(\"failed to load library \" + url);\n",
       "      };\n",
       "      console.log(\"Bokeh: injecting script tag for BokehJS library: \", url);\n",
       "      document.getElementsByTagName(\"head\")[0].appendChild(s);\n",
       "    }\n",
       "  };var element = document.getElementById(\"e9ee9046-1491-4d0c-8c11-c2adba457d0c\");\n",
       "  if (element == null) {\n",
       "    console.log(\"Bokeh: ERROR: autoload.js configured with elementid 'e9ee9046-1491-4d0c-8c11-c2adba457d0c' but no matching script tag was found. \")\n",
       "    return false;\n",
       "  }\n",
       "\n",
       "  var js_urls = [\"https://cdn.pydata.org/bokeh/release/bokeh-0.13.0.min.js\", \"https://cdn.pydata.org/bokeh/release/bokeh-widgets-0.13.0.min.js\", \"https://cdn.pydata.org/bokeh/release/bokeh-tables-0.13.0.min.js\", \"https://cdn.pydata.org/bokeh/release/bokeh-gl-0.13.0.min.js\"];\n",
       "\n",
       "  var inline_js = [\n",
       "    function(Bokeh) {\n",
       "      Bokeh.set_log_level(\"info\");\n",
       "    },\n",
       "    \n",
       "    function(Bokeh) {\n",
       "      \n",
       "    },\n",
       "    function(Bokeh) {\n",
       "      console.log(\"Bokeh: injecting CSS: https://cdn.pydata.org/bokeh/release/bokeh-0.13.0.min.css\");\n",
       "      Bokeh.embed.inject_css(\"https://cdn.pydata.org/bokeh/release/bokeh-0.13.0.min.css\");\n",
       "      console.log(\"Bokeh: injecting CSS: https://cdn.pydata.org/bokeh/release/bokeh-widgets-0.13.0.min.css\");\n",
       "      Bokeh.embed.inject_css(\"https://cdn.pydata.org/bokeh/release/bokeh-widgets-0.13.0.min.css\");\n",
       "      console.log(\"Bokeh: injecting CSS: https://cdn.pydata.org/bokeh/release/bokeh-tables-0.13.0.min.css\");\n",
       "      Bokeh.embed.inject_css(\"https://cdn.pydata.org/bokeh/release/bokeh-tables-0.13.0.min.css\");\n",
       "    }\n",
       "  ];\n",
       "\n",
       "  function run_inline_js() {\n",
       "    \n",
       "    if ((root.Bokeh !== undefined) || (force === true)) {\n",
       "      for (var i = 0; i < inline_js.length; i++) {\n",
       "        inline_js[i].call(root, root.Bokeh);\n",
       "      }if (force === true) {\n",
       "        display_loaded();\n",
       "      }} else if (Date.now() < root._bokeh_timeout) {\n",
       "      setTimeout(run_inline_js, 100);\n",
       "    } else if (!root._bokeh_failed_load) {\n",
       "      console.log(\"Bokeh: BokehJS failed to load within specified timeout.\");\n",
       "      root._bokeh_failed_load = true;\n",
       "    } else if (force !== true) {\n",
       "      var cell = $(document.getElementById(\"e9ee9046-1491-4d0c-8c11-c2adba457d0c\")).parents('.cell').data().cell;\n",
       "      cell.output_area.append_execute_result(NB_LOAD_WARNING)\n",
       "    }\n",
       "\n",
       "  }\n",
       "\n",
       "  if (root._bokeh_is_loading === 0) {\n",
       "    console.log(\"Bokeh: BokehJS loaded, going straight to plotting\");\n",
       "    run_inline_js();\n",
       "  } else {\n",
       "    load_libs(js_urls, function() {\n",
       "      console.log(\"Bokeh: BokehJS plotting callback run at\", now());\n",
       "      run_inline_js();\n",
       "    });\n",
       "  }\n",
       "}(window));"
      ],
      "application/vnd.bokehjs_load.v0+json": "\n(function(root) {\n  function now() {\n    return new Date();\n  }\n\n  var force = true;\n\n  if (typeof (root._bokeh_onload_callbacks) === \"undefined\" || force === true) {\n    root._bokeh_onload_callbacks = [];\n    root._bokeh_is_loading = undefined;\n  }\n\n  \n\n  \n  if (typeof (root._bokeh_timeout) === \"undefined\" || force === true) {\n    root._bokeh_timeout = Date.now() + 5000;\n    root._bokeh_failed_load = false;\n  }\n\n  var NB_LOAD_WARNING = {'data': {'text/html':\n     \"<div style='background-color: #fdd'>\\n\"+\n     \"<p>\\n\"+\n     \"BokehJS does not appear to have successfully loaded. If loading BokehJS from CDN, this \\n\"+\n     \"may be due to a slow or bad network connection. Possible fixes:\\n\"+\n     \"</p>\\n\"+\n     \"<ul>\\n\"+\n     \"<li>re-rerun `output_notebook()` to attempt to load from CDN again, or</li>\\n\"+\n     \"<li>use INLINE resources instead, as so:</li>\\n\"+\n     \"</ul>\\n\"+\n     \"<code>\\n\"+\n     \"from bokeh.resources import INLINE\\n\"+\n     \"output_notebook(resources=INLINE)\\n\"+\n     \"</code>\\n\"+\n     \"</div>\"}};\n\n  function display_loaded() {\n    var el = document.getElementById(\"e9ee9046-1491-4d0c-8c11-c2adba457d0c\");\n    if (el != null) {\n      el.textContent = \"BokehJS is loading...\";\n    }\n    if (root.Bokeh !== undefined) {\n      if (el != null) {\n        el.textContent = \"BokehJS \" + root.Bokeh.version + \" successfully loaded.\";\n      }\n    } else if (Date.now() < root._bokeh_timeout) {\n      setTimeout(display_loaded, 100)\n    }\n  }\n\n\n  function run_callbacks() {\n    try {\n      root._bokeh_onload_callbacks.forEach(function(callback) { callback() });\n    }\n    finally {\n      delete root._bokeh_onload_callbacks\n    }\n    console.info(\"Bokeh: all callbacks have finished\");\n  }\n\n  function load_libs(js_urls, callback) {\n    root._bokeh_onload_callbacks.push(callback);\n    if (root._bokeh_is_loading > 0) {\n      console.log(\"Bokeh: BokehJS is being loaded, scheduling callback at\", now());\n      return null;\n    }\n    if (js_urls == null || js_urls.length === 0) {\n      run_callbacks();\n      return null;\n    }\n    console.log(\"Bokeh: BokehJS not loaded, scheduling load and callback at\", now());\n    root._bokeh_is_loading = js_urls.length;\n    for (var i = 0; i < js_urls.length; i++) {\n      var url = js_urls[i];\n      var s = document.createElement('script');\n      s.src = url;\n      s.async = false;\n      s.onreadystatechange = s.onload = function() {\n        root._bokeh_is_loading--;\n        if (root._bokeh_is_loading === 0) {\n          console.log(\"Bokeh: all BokehJS libraries loaded\");\n          run_callbacks()\n        }\n      };\n      s.onerror = function() {\n        console.warn(\"failed to load library \" + url);\n      };\n      console.log(\"Bokeh: injecting script tag for BokehJS library: \", url);\n      document.getElementsByTagName(\"head\")[0].appendChild(s);\n    }\n  };var element = document.getElementById(\"e9ee9046-1491-4d0c-8c11-c2adba457d0c\");\n  if (element == null) {\n    console.log(\"Bokeh: ERROR: autoload.js configured with elementid 'e9ee9046-1491-4d0c-8c11-c2adba457d0c' but no matching script tag was found. \")\n    return false;\n  }\n\n  var js_urls = [\"https://cdn.pydata.org/bokeh/release/bokeh-0.13.0.min.js\", \"https://cdn.pydata.org/bokeh/release/bokeh-widgets-0.13.0.min.js\", \"https://cdn.pydata.org/bokeh/release/bokeh-tables-0.13.0.min.js\", \"https://cdn.pydata.org/bokeh/release/bokeh-gl-0.13.0.min.js\"];\n\n  var inline_js = [\n    function(Bokeh) {\n      Bokeh.set_log_level(\"info\");\n    },\n    \n    function(Bokeh) {\n      \n    },\n    function(Bokeh) {\n      console.log(\"Bokeh: injecting CSS: https://cdn.pydata.org/bokeh/release/bokeh-0.13.0.min.css\");\n      Bokeh.embed.inject_css(\"https://cdn.pydata.org/bokeh/release/bokeh-0.13.0.min.css\");\n      console.log(\"Bokeh: injecting CSS: https://cdn.pydata.org/bokeh/release/bokeh-widgets-0.13.0.min.css\");\n      Bokeh.embed.inject_css(\"https://cdn.pydata.org/bokeh/release/bokeh-widgets-0.13.0.min.css\");\n      console.log(\"Bokeh: injecting CSS: https://cdn.pydata.org/bokeh/release/bokeh-tables-0.13.0.min.css\");\n      Bokeh.embed.inject_css(\"https://cdn.pydata.org/bokeh/release/bokeh-tables-0.13.0.min.css\");\n    }\n  ];\n\n  function run_inline_js() {\n    \n    if ((root.Bokeh !== undefined) || (force === true)) {\n      for (var i = 0; i < inline_js.length; i++) {\n        inline_js[i].call(root, root.Bokeh);\n      }if (force === true) {\n        display_loaded();\n      }} else if (Date.now() < root._bokeh_timeout) {\n      setTimeout(run_inline_js, 100);\n    } else if (!root._bokeh_failed_load) {\n      console.log(\"Bokeh: BokehJS failed to load within specified timeout.\");\n      root._bokeh_failed_load = true;\n    } else if (force !== true) {\n      var cell = $(document.getElementById(\"e9ee9046-1491-4d0c-8c11-c2adba457d0c\")).parents('.cell').data().cell;\n      cell.output_area.append_execute_result(NB_LOAD_WARNING)\n    }\n\n  }\n\n  if (root._bokeh_is_loading === 0) {\n    console.log(\"Bokeh: BokehJS loaded, going straight to plotting\");\n    run_inline_js();\n  } else {\n    load_libs(js_urls, function() {\n      console.log(\"Bokeh: BokehJS plotting callback run at\", now());\n      run_inline_js();\n    });\n  }\n}(window));"
     },
     "metadata": {},
     "output_type": "display_data"
    },
    {
     "data": {
      "text/html": [
       "\n",
       "\n",
       "\n",
       "\n",
       "\n",
       "\n",
       "  <div class=\"bk-root\" id=\"85078928-08b0-4eac-960c-fe32f44722ee\"></div>\n"
      ]
     },
     "metadata": {},
     "output_type": "display_data"
    },
    {
     "data": {
      "application/javascript": [
       "(function(root) {\n",
       "  function embed_document(root) {\n",
       "    \n",
       "  var docs_json = {\"e53ed865-9a33-4830-926c-6339f04f1994\":{\"roots\":{\"references\":[{\"attributes\":{\"axis_line_color\":{\"value\":null},\"formatter\":{\"id\":\"a51f233f-5238-4865-8dc5-8dfd88e90479\",\"type\":\"CategoricalTickFormatter\"},\"major_label_orientation\":0.7853981633974483,\"major_label_standoff\":16,\"major_label_text_font_size\":{\"value\":\"12pt\"},\"major_tick_line_color\":{\"value\":null},\"plot\":{\"id\":\"ec65ecf5-b3f3-4897-8b1f-6536b459aa60\",\"subtype\":\"Figure\",\"type\":\"Plot\"},\"ticker\":{\"id\":\"884b3798-1ed8-44b4-81b4-bab00d49416f\",\"type\":\"CategoricalTicker\"}},\"id\":\"8adec2f2-4bb1-46b6-bb86-c097816c2733\",\"type\":\"CategoricalAxis\"},{\"attributes\":{},\"id\":\"a51f233f-5238-4865-8dc5-8dfd88e90479\",\"type\":\"CategoricalTickFormatter\"},{\"attributes\":{\"callback\":null,\"factors\":[\"Welcome to simple yet\",\"surprisingly powerful\",\"multilingual\",\"natural language understanding\",\"models.\",\"What people mean\",\"matters more than\",\"the language they speak.\"]},\"id\":\"102b2050-96b7-4e70-8821-a158d01c4b81\",\"type\":\"FactorRange\"},{\"attributes\":{\"plot\":null,\"text\":\"Multilingual Universal Sentence Encoder for Semantic Retrieval (Yang et al., 2019)\",\"text_font_size\":{\"value\":\"12pt\"}},\"id\":\"62bae5b2-7a3c-4384-abfc-51c319195ceb\",\"type\":\"Title\"},{\"attributes\":{\"fill_color\":{\"field\":\"sim\",\"transform\":{\"id\":\"05b4eafd-d227-4870-abd7-f5c1ae4e30ee\",\"type\":\"LinearColorMapper\"}},\"height\":{\"units\":\"data\",\"value\":1},\"line_color\":{\"value\":null},\"width\":{\"units\":\"data\",\"value\":1},\"x\":{\"field\":\"embeddings_1\"},\"y\":{\"field\":\"embeddings_2\"}},\"id\":\"0f197a06-7078-460f-b6b1-fca8b1a37b9b\",\"type\":\"Rect\"},{\"attributes\":{\"fill_alpha\":{\"value\":0.1},\"fill_color\":{\"value\":\"#1f77b4\"},\"height\":{\"units\":\"data\",\"value\":1},\"line_alpha\":{\"value\":0.1},\"line_color\":{\"value\":\"#1f77b4\"},\"width\":{\"units\":\"data\",\"value\":1},\"x\":{\"field\":\"embeddings_1\"},\"y\":{\"field\":\"embeddings_2\"}},\"id\":\"eed715f5-2782-468f-93ce-473cc3d3baf7\",\"type\":\"Rect\"},{\"attributes\":{\"above\":[{\"id\":\"8adec2f2-4bb1-46b6-bb86-c097816c2733\",\"type\":\"CategoricalAxis\"}],\"left\":[{\"id\":\"ad385708-fb25-4a45-962f-ebba01dedb2b\",\"type\":\"CategoricalAxis\"}],\"min_border_right\":300,\"plot_width\":1200,\"renderers\":[{\"id\":\"8adec2f2-4bb1-46b6-bb86-c097816c2733\",\"type\":\"CategoricalAxis\"},{\"id\":\"609bffba-b62b-4cb1-8517-43a952c12b4b\",\"type\":\"Grid\"},{\"id\":\"ad385708-fb25-4a45-962f-ebba01dedb2b\",\"type\":\"CategoricalAxis\"},{\"id\":\"9451764f-647e-4761-9e1e-a42dbd103734\",\"type\":\"Grid\"},{\"id\":\"497e2bce-9b1f-4f0d-9f16-ef67ded35059\",\"type\":\"GlyphRenderer\"}],\"title\":{\"id\":\"62bae5b2-7a3c-4384-abfc-51c319195ceb\",\"type\":\"Title\"},\"toolbar\":{\"id\":\"49d56e6e-e9f2-4620-ad40-f30735873b6e\",\"type\":\"Toolbar\"},\"toolbar_location\":\"below\",\"x_range\":{\"id\":\"102b2050-96b7-4e70-8821-a158d01c4b81\",\"type\":\"FactorRange\"},\"x_scale\":{\"id\":\"1a18152f-f8da-4402-998b-02aaa41df2de\",\"type\":\"CategoricalScale\"},\"y_range\":{\"id\":\"79f2e1d1-3387-4c7b-99ae-ff905873ae94\",\"type\":\"FactorRange\"},\"y_scale\":{\"id\":\"4c63cdab-154d-4fc8-a733-0a9dcf4920b8\",\"type\":\"CategoricalScale\"}},\"id\":\"ec65ecf5-b3f3-4897-8b1f-6536b459aa60\",\"subtype\":\"Figure\",\"type\":\"Plot\"},{\"attributes\":{},\"id\":\"4c63cdab-154d-4fc8-a733-0a9dcf4920b8\",\"type\":\"CategoricalScale\"},{\"attributes\":{\"plot\":{\"id\":\"ec65ecf5-b3f3-4897-8b1f-6536b459aa60\",\"subtype\":\"Figure\",\"type\":\"Plot\"},\"ticker\":{\"id\":\"884b3798-1ed8-44b4-81b4-bab00d49416f\",\"type\":\"CategoricalTicker\"}},\"id\":\"609bffba-b62b-4cb1-8517-43a952c12b4b\",\"type\":\"Grid\"},{\"attributes\":{},\"id\":\"1a18152f-f8da-4402-998b-02aaa41df2de\",\"type\":\"CategoricalScale\"},{\"attributes\":{\"axis_line_color\":{\"value\":null},\"formatter\":{\"id\":\"8ff7a903-f83c-46fe-89a2-97f8d83ea812\",\"type\":\"CategoricalTickFormatter\"},\"major_label_standoff\":16,\"major_label_text_font_size\":{\"value\":\"12pt\"},\"major_tick_line_color\":{\"value\":null},\"plot\":{\"id\":\"ec65ecf5-b3f3-4897-8b1f-6536b459aa60\",\"subtype\":\"Figure\",\"type\":\"Plot\"},\"ticker\":{\"id\":\"7a3f2ff1-911c-460a-8d87-653658e2d790\",\"type\":\"CategoricalTicker\"}},\"id\":\"ad385708-fb25-4a45-962f-ebba01dedb2b\",\"type\":\"CategoricalAxis\"},{\"attributes\":{},\"id\":\"861aaf3f-6034-45a4-8a5c-cc54d4eb9b2f\",\"type\":\"Selection\"},{\"attributes\":{\"callback\":null,\"data\":{\"embeddings_1\":[\"Welcome to simple yet\",\"Welcome to simple yet\",\"Welcome to simple yet\",\"Welcome to simple yet\",\"Welcome to simple yet\",\"Welcome to simple yet\",\"Welcome to simple yet\",\"Welcome to simple yet\",\"surprisingly powerful\",\"surprisingly powerful\",\"surprisingly powerful\",\"surprisingly powerful\",\"surprisingly powerful\",\"surprisingly powerful\",\"surprisingly powerful\",\"surprisingly powerful\",\"multilingual\",\"multilingual\",\"multilingual\",\"multilingual\",\"multilingual\",\"multilingual\",\"multilingual\",\"multilingual\",\"natural language understanding\",\"natural language understanding\",\"natural language understanding\",\"natural language understanding\",\"natural language understanding\",\"natural language understanding\",\"natural language understanding\",\"natural language understanding\",\"models.\",\"models.\",\"models.\",\"models.\",\"models.\",\"models.\",\"models.\",\"models.\",\"What people mean\",\"What people mean\",\"What people mean\",\"What people mean\",\"What people mean\",\"What people mean\",\"What people mean\",\"What people mean\",\"matters more than\",\"matters more than\",\"matters more than\",\"matters more than\",\"matters more than\",\"matters more than\",\"matters more than\",\"matters more than\",\"the language they speak.\",\"the language they speak.\",\"the language they speak.\",\"the language they speak.\",\"the language they speak.\",\"the language they speak.\",\"the language they speak.\",\"the language they speak.\"],\"embeddings_2\":[\"Willkommen zu einfachen, aber\",\"verrassend krachtige\",\"multiling\\u00fce\",\"compr\\u00e9hension du langage naturel\",\"\\u043c\\u043e\\u0434\\u0435\\u043b\\u0438.\",\"\\u5927\\u5bb6\\u662f\\u4ec0\\u4e48\\u610f\\u601d\",\"\\ubcf4\\ub2e4 \\uc911\\uc694\\ud55c\",\".\\u0627\\u0644\\u0644\\u063a\\u0629 \\u0627\\u0644\\u062a\\u064a \\u064a\\u062a\\u062d\\u062f\\u062b\\u0648\\u0646\\u0647\\u0627\",\"Willkommen zu einfachen, aber\",\"verrassend krachtige\",\"multiling\\u00fce\",\"compr\\u00e9hension du langage naturel\",\"\\u043c\\u043e\\u0434\\u0435\\u043b\\u0438.\",\"\\u5927\\u5bb6\\u662f\\u4ec0\\u4e48\\u610f\\u601d\",\"\\ubcf4\\ub2e4 \\uc911\\uc694\\ud55c\",\".\\u0627\\u0644\\u0644\\u063a\\u0629 \\u0627\\u0644\\u062a\\u064a \\u064a\\u062a\\u062d\\u062f\\u062b\\u0648\\u0646\\u0647\\u0627\",\"Willkommen zu einfachen, aber\",\"verrassend krachtige\",\"multiling\\u00fce\",\"compr\\u00e9hension du langage naturel\",\"\\u043c\\u043e\\u0434\\u0435\\u043b\\u0438.\",\"\\u5927\\u5bb6\\u662f\\u4ec0\\u4e48\\u610f\\u601d\",\"\\ubcf4\\ub2e4 \\uc911\\uc694\\ud55c\",\".\\u0627\\u0644\\u0644\\u063a\\u0629 \\u0627\\u0644\\u062a\\u064a \\u064a\\u062a\\u062d\\u062f\\u062b\\u0648\\u0646\\u0647\\u0627\",\"Willkommen zu einfachen, aber\",\"verrassend krachtige\",\"multiling\\u00fce\",\"compr\\u00e9hension du langage naturel\",\"\\u043c\\u043e\\u0434\\u0435\\u043b\\u0438.\",\"\\u5927\\u5bb6\\u662f\\u4ec0\\u4e48\\u610f\\u601d\",\"\\ubcf4\\ub2e4 \\uc911\\uc694\\ud55c\",\".\\u0627\\u0644\\u0644\\u063a\\u0629 \\u0627\\u0644\\u062a\\u064a \\u064a\\u062a\\u062d\\u062f\\u062b\\u0648\\u0646\\u0647\\u0627\",\"Willkommen zu einfachen, aber\",\"verrassend krachtige\",\"multiling\\u00fce\",\"compr\\u00e9hension du langage naturel\",\"\\u043c\\u043e\\u0434\\u0435\\u043b\\u0438.\",\"\\u5927\\u5bb6\\u662f\\u4ec0\\u4e48\\u610f\\u601d\",\"\\ubcf4\\ub2e4 \\uc911\\uc694\\ud55c\",\".\\u0627\\u0644\\u0644\\u063a\\u0629 \\u0627\\u0644\\u062a\\u064a \\u064a\\u062a\\u062d\\u062f\\u062b\\u0648\\u0646\\u0647\\u0627\",\"Willkommen zu einfachen, aber\",\"verrassend krachtige\",\"multiling\\u00fce\",\"compr\\u00e9hension du langage naturel\",\"\\u043c\\u043e\\u0434\\u0435\\u043b\\u0438.\",\"\\u5927\\u5bb6\\u662f\\u4ec0\\u4e48\\u610f\\u601d\",\"\\ubcf4\\ub2e4 \\uc911\\uc694\\ud55c\",\".\\u0627\\u0644\\u0644\\u063a\\u0629 \\u0627\\u0644\\u062a\\u064a \\u064a\\u062a\\u062d\\u062f\\u062b\\u0648\\u0646\\u0647\\u0627\",\"Willkommen zu einfachen, aber\",\"verrassend krachtige\",\"multiling\\u00fce\",\"compr\\u00e9hension du langage naturel\",\"\\u043c\\u043e\\u0434\\u0435\\u043b\\u0438.\",\"\\u5927\\u5bb6\\u662f\\u4ec0\\u4e48\\u610f\\u601d\",\"\\ubcf4\\ub2e4 \\uc911\\uc694\\ud55c\",\".\\u0627\\u0644\\u0644\\u063a\\u0629 \\u0627\\u0644\\u062a\\u064a \\u064a\\u062a\\u062d\\u062f\\u062b\\u0648\\u0646\\u0647\\u0627\",\"Willkommen zu einfachen, aber\",\"verrassend krachtige\",\"multiling\\u00fce\",\"compr\\u00e9hension du langage naturel\",\"\\u043c\\u043e\\u0434\\u0435\\u043b\\u0438.\",\"\\u5927\\u5bb6\\u662f\\u4ec0\\u4e48\\u610f\\u601d\",\"\\ubcf4\\ub2e4 \\uc911\\uc694\\ud55c\",\".\\u0627\\u0644\\u0644\\u063a\\u0629 \\u0627\\u0644\\u062a\\u064a \\u064a\\u062a\\u062d\\u062f\\u062b\\u0648\\u0646\\u0647\\u0627\"],\"index\":[0,1,2,3,4,5,6,7,8,9,10,11,12,13,14,15,16,17,18,19,20,21,22,23,24,25,26,27,28,29,30,31,32,33,34,35,36,37,38,39,40,41,42,43,44,45,46,47,48,49,50,51,52,53,54,55,56,57,58,59,60,61,62,63],\"sim\":{\"__ndarray__\":\"AAAAAOzV3j8AAACAJrHcPwAAAIB9at0/AAAAgBnY3z8AAADATe7bPwAAAMDoSd8/AAAAgJn73D8AAABA1WncPwAAAICtuds/AAAAgA1H3j8AAABA1P3dPwAAAABHct8/AAAAoAcw4D8AAABA4vffPwAAAEAT5tw/AAAAgDVQ2z8AAABA17nhPwAAAADAUOA/AAAAgEkL3z8AAADA0JLiPwAAAAB6a+A/AAAAwNa+4D8AAACA6izgPwAAAACVxd0/AAAAQLUM3j8AAAAAZWvfPwAAAMD6F94/AAAAoODI4j8AAABAzXLePwAAAECxieA/AAAAgCZM3z8AAACAtADbPwAAAEBF8OA/AAAAYF/j4T8AAACA5rzgPwAAAMD4id8/AAAAoA794j8AAADAoEThPwAAAEDMZuI/AAAAwBM/4z8AAABAg0zfPwAAAECjw98/AAAAADWz3j8AAADA/oDfPwAAAADtw9k/AAAAQMZB3T8AAAAAZ97dPwAAAMAPa9s/AAAAAKP52z8AAABAT2XbPwAAAEBc6N0/AAAAwI4d3j8AAACAj/PdPwAAAMB3p98/AAAAADGu3D8AAABAnH3cPwAAAMAV3N8/AAAAwDZG4D8AAABAea3gPwAAAMCHbuE/AAAAINRL4T8AAADAL1jfPwAAAIBkm+A/AAAA4Pep4T8=\",\"dtype\":\"float64\",\"shape\":[64]}},\"selected\":{\"id\":\"861aaf3f-6034-45a4-8a5c-cc54d4eb9b2f\",\"type\":\"Selection\"},\"selection_policy\":{\"id\":\"7c8112e7-64ff-453f-9cb3-91878268c6f8\",\"type\":\"UnionRenderers\"}},\"id\":\"2f0fa7ab-d9f9-4d44-ab43-47d3d153a0c7\",\"type\":\"ColumnDataSource\"},{\"attributes\":{\"callback\":null,\"renderers\":\"auto\",\"tooltips\":[[\"pair\",\"@embeddings_1 ||| @embeddings_2\"],[\"sim\",\"@sim\"]]},\"id\":\"7ffa11b9-2855-407e-9947-638fbb17dc66\",\"type\":\"HoverTool\"},{\"attributes\":{},\"id\":\"884b3798-1ed8-44b4-81b4-bab00d49416f\",\"type\":\"CategoricalTicker\"},{\"attributes\":{\"dimension\":1,\"plot\":{\"id\":\"ec65ecf5-b3f3-4897-8b1f-6536b459aa60\",\"subtype\":\"Figure\",\"type\":\"Plot\"},\"ticker\":{\"id\":\"7a3f2ff1-911c-460a-8d87-653658e2d790\",\"type\":\"CategoricalTicker\"}},\"id\":\"9451764f-647e-4761-9e1e-a42dbd103734\",\"type\":\"Grid\"},{\"attributes\":{},\"id\":\"8ff7a903-f83c-46fe-89a2-97f8d83ea812\",\"type\":\"CategoricalTickFormatter\"},{\"attributes\":{},\"id\":\"5828610b-7b9b-4624-8c7b-354cfe611c33\",\"type\":\"SaveTool\"},{\"attributes\":{},\"id\":\"7a3f2ff1-911c-460a-8d87-653658e2d790\",\"type\":\"CategoricalTicker\"},{\"attributes\":{\"callback\":null,\"factors\":[\".\\u0627\\u0644\\u0644\\u063a\\u0629 \\u0627\\u0644\\u062a\\u064a \\u064a\\u062a\\u062d\\u062f\\u062b\\u0648\\u0646\\u0647\\u0627\",\"\\ubcf4\\ub2e4 \\uc911\\uc694\\ud55c\",\"\\u5927\\u5bb6\\u662f\\u4ec0\\u4e48\\u610f\\u601d\",\"\\u043c\\u043e\\u0434\\u0435\\u043b\\u0438.\",\"compr\\u00e9hension du langage naturel\",\"multiling\\u00fce\",\"verrassend krachtige\",\"Willkommen zu einfachen, aber\"]},\"id\":\"79f2e1d1-3387-4c7b-99ae-ff905873ae94\",\"type\":\"FactorRange\"},{\"attributes\":{\"source\":{\"id\":\"2f0fa7ab-d9f9-4d44-ab43-47d3d153a0c7\",\"type\":\"ColumnDataSource\"}},\"id\":\"8e302377-6eea-45b6-8446-02683d396dcc\",\"type\":\"CDSView\"},{\"attributes\":{},\"id\":\"7c8112e7-64ff-453f-9cb3-91878268c6f8\",\"type\":\"UnionRenderers\"},{\"attributes\":{\"data_source\":{\"id\":\"2f0fa7ab-d9f9-4d44-ab43-47d3d153a0c7\",\"type\":\"ColumnDataSource\"},\"glyph\":{\"id\":\"0f197a06-7078-460f-b6b1-fca8b1a37b9b\",\"type\":\"Rect\"},\"hover_glyph\":null,\"muted_glyph\":null,\"nonselection_glyph\":{\"id\":\"eed715f5-2782-468f-93ce-473cc3d3baf7\",\"type\":\"Rect\"},\"selection_glyph\":null,\"view\":{\"id\":\"8e302377-6eea-45b6-8446-02683d396dcc\",\"type\":\"CDSView\"}},\"id\":\"497e2bce-9b1f-4f0d-9f16-ef67ded35059\",\"type\":\"GlyphRenderer\"},{\"attributes\":{\"active_drag\":\"auto\",\"active_inspect\":\"auto\",\"active_multi\":null,\"active_scroll\":\"auto\",\"active_tap\":\"auto\",\"tools\":[{\"id\":\"5828610b-7b9b-4624-8c7b-354cfe611c33\",\"type\":\"SaveTool\"},{\"id\":\"7ffa11b9-2855-407e-9947-638fbb17dc66\",\"type\":\"HoverTool\"}]},\"id\":\"49d56e6e-e9f2-4620-ad40-f30735873b6e\",\"type\":\"Toolbar\"},{\"attributes\":{\"high\":0.6014498472213745,\"low\":0.40258336067199707,\"palette\":[\"#ffffcc\",\"#ffeda0\",\"#fed976\",\"#feb24c\",\"#fd8d3c\",\"#fc4e2a\",\"#e31a1c\",\"#bd0026\",\"#800026\"]},\"id\":\"05b4eafd-d227-4870-abd7-f5c1ae4e30ee\",\"type\":\"LinearColorMapper\"}],\"root_ids\":[\"ec65ecf5-b3f3-4897-8b1f-6536b459aa60\"]},\"title\":\"Bokeh Application\",\"version\":\"0.13.0\"}};\n",
       "  var render_items = [{\"docid\":\"e53ed865-9a33-4830-926c-6339f04f1994\",\"roots\":{\"ec65ecf5-b3f3-4897-8b1f-6536b459aa60\":\"85078928-08b0-4eac-960c-fe32f44722ee\"}}];\n",
       "  root.Bokeh.embed.embed_items_notebook(docs_json, render_items);\n",
       "\n",
       "  }\n",
       "  if (root.Bokeh !== undefined) {\n",
       "    embed_document(root);\n",
       "  } else {\n",
       "    var attempts = 0;\n",
       "    var timer = setInterval(function(root) {\n",
       "      if (root.Bokeh !== undefined) {\n",
       "        embed_document(root);\n",
       "        clearInterval(timer);\n",
       "      }\n",
       "      attempts++;\n",
       "      if (attempts > 100) {\n",
       "        console.log(\"Bokeh: ERROR: Unable to run BokehJS code because BokehJS library is missing\")\n",
       "        clearInterval(timer);\n",
       "      }\n",
       "    }, 10, root)\n",
       "  }\n",
       "})(window);"
      ],
      "application/vnd.bokehjs_exec.v0+json": ""
     },
     "metadata": {
      "application/vnd.bokehjs_exec.v0+json": {
       "id": "ec65ecf5-b3f3-4897-8b1f-6536b459aa60"
      }
     },
     "output_type": "display_data"
    }
   ],
   "source": [
    "visualize_similarity(multilingual_in_en_result, multilingual_result,\n",
    "                     multilingual_example_in_en, multilingual_example,  \"Multilingual Universal Sentence Encoder for Semantic Retrieval (Yang et al., 2019)\")\n"
   ]
  },
  {
   "cell_type": "markdown",
   "metadata": {},
   "source": [
    "### Load sample of your data\n",
    "Note that when data file is huge \n",
    "- you can load data by chunks and \n",
    "- you can also load only those columns which you are going to use. \n",
    "Both of these features of pandas are shown below."
   ]
  },
  {
   "cell_type": "code",
   "execution_count": 8,
   "metadata": {},
   "outputs": [],
   "source": [
    "train = pd.read_csv('../word2vec/data/train.csv.zip', header=0, chunksize=10, usecols=['comment_text'])"
   ]
  },
  {
   "cell_type": "code",
   "execution_count": 9,
   "metadata": {},
   "outputs": [
    {
     "name": "stdout",
     "output_type": "stream",
     "text": [
      "                                        comment_text\n",
      "0  Explanation\\nWhy the edits made under my usern...\n",
      "1  D'aww! He matches this background colour I'm s...\n",
      "2  Hey man, I'm really not trying to edit war. It...\n",
      "3  \"\\nMore\\nI can't make any real suggestions on ...\n",
      "4  You, sir, are my hero. Any chance you remember...\n",
      "5  \"\\n\\nCongratulations from me as well, use the ...\n",
      "6       COCKSUCKER BEFORE YOU PISS AROUND ON MY WORK\n",
      "7  Your vandalism to the Matt Shirvington article...\n",
      "8  Sorry if the word 'nonsense' was offensive to ...\n",
      "9  alignment on this subject and which are contra...\n"
     ]
    }
   ],
   "source": [
    "for batch in train:\n",
    "    print(batch)\n",
    "    b = batch\n",
    "    break"
   ]
  },
  {
   "cell_type": "code",
   "execution_count": 10,
   "metadata": {},
   "outputs": [
    {
     "data": {
      "text/plain": [
       "[\"Explanation\\nWhy the edits made under my username Hardcore Metallica Fan were reverted? They weren't vandalisms, just closure on some GAs after I voted at New York Dolls FAC. And please don't remove the template from the talk page since I'm retired now.89.205.38.27\",\n",
       " \"D'aww! He matches this background colour I'm seemingly stuck with. Thanks.  (talk) 21:51, January 11, 2016 (UTC)\",\n",
       " \"Hey man, I'm really not trying to edit war. It's just that this guy is constantly removing relevant information and talking to me through edits instead of my talk page. He seems to care more about the formatting than the actual info.\",\n",
       " '\"\\nMore\\nI can\\'t make any real suggestions on improvement - I wondered if the section statistics should be later on, or a subsection of \"\"types of accidents\"\"  -I think the references may need tidying so that they are all in the exact same format ie date format etc. I can do that later on, if no-one else does first - if you have any preferences for formatting style on references or want to do it yourself please let me know.\\n\\nThere appears to be a backlog on articles for review so I guess there may be a delay until a reviewer turns up. It\\'s listed in the relevant form eg Wikipedia:Good_article_nominations#Transport  \"',\n",
       " \"You, sir, are my hero. Any chance you remember what page that's on?\",\n",
       " '\"\\n\\nCongratulations from me as well, use the tools well. \\xa0· talk \"',\n",
       " 'COCKSUCKER BEFORE YOU PISS AROUND ON MY WORK',\n",
       " \"Your vandalism to the Matt Shirvington article has been reverted.  Please don't do it again, or you will be banned.\",\n",
       " \"Sorry if the word 'nonsense' was offensive to you. Anyway, I'm not intending to write anything in the article(wow they would jump on me for vandalism), I'm merely requesting that it be more encyclopedic so one can use it for school as a reference. I have been to the selective breeding page but it's almost a stub. It points to 'animal breeding' which is a short messy article that gives you no info. There must be someone around with expertise in eugenics? 93.161.107.169\",\n",
       " 'alignment on this subject and which are contrary to those of DuLithgow']"
      ]
     },
     "execution_count": 10,
     "metadata": {},
     "output_type": "execute_result"
    }
   ],
   "source": [
    "[x[0] for x in b[['comment_text']].values]"
   ]
  },
  {
   "cell_type": "markdown",
   "metadata": {},
   "source": [
    "### Embed predetermined number of data points using pretrained NNLM EN Dim128\n",
    "Note that the objective here is to load 1280 examples (a randomly chosen number for sake of demonstration). <br>\n",
    "This will be loaded in 80 chunks of 16 batches each (80 * 16 = 1280) to avoid out of memory error.\n",
    "\n",
    "We are using tqdm to show progress bar. (niceties of the world!)"
   ]
  },
  {
   "cell_type": "code",
   "execution_count": 11,
   "metadata": {},
   "outputs": [
    {
     "name": "stderr",
     "output_type": "stream",
     "text": [
      "100%|██████████| 1280/1280 [00:01<00:00, 738.10it/s]\n"
     ]
    }
   ],
   "source": [
    "comment_to_embeddings = []\n",
    "comment_text = []\n",
    "chunks = 80\n",
    "batch_size = 16\n",
    "with tqdm(total=chunks*batch_size) as pbar:\n",
    "    for idx, batch in enumerate(pd.read_csv('../word2vec/data/train.csv.zip',header=0, chunksize=batch_size, usecols=['comment_text'])):\n",
    "        comment_text.extend([x[0] for x in batch[['comment_text']].values])\n",
    "        comment_to_embeddings.extend(embed_text(comment_text[-batch_size:]))\n",
    "        pbar.update(len(batch))\n",
    "        if idx + 1 == chunks:\n",
    "            break"
   ]
  },
  {
   "cell_type": "code",
   "execution_count": 12,
   "metadata": {},
   "outputs": [],
   "source": [
    "assert len(comment_to_embeddings) == len(comment_text)"
   ]
  },
  {
   "cell_type": "markdown",
   "metadata": {},
   "source": [
    "### Building Nearest Neighbour Search Model\n",
    "- First we need to add (sentence text, sentence embedding) data to index of the model. \n",
    "- Next we train the model by selecting a predetermined number of trees (n)"
   ]
  },
  {
   "cell_type": "code",
   "execution_count": 13,
   "metadata": {},
   "outputs": [
    {
     "name": "stderr",
     "output_type": "stream",
     "text": [
      "100%|██████████| 128/128 [00:13<00:00,  9.66it/s]"
     ]
    },
    {
     "name": "stdout",
     "output_type": "stream",
     "text": [
      "Building comment index with 40 trees...\n"
     ]
    },
    {
     "name": "stderr",
     "output_type": "stream",
     "text": [
      "\n"
     ]
    }
   ],
   "source": [
    "embedding_dimensions = comment_to_embeddings[0].shape[0]\n",
    "params = dict(n = 40, metric='dot', dims=embedding_dimensions)\n",
    "comment_lookup = SimpleNeighbors(dims=params['dims'], metric=params['metric'])\n",
    "\n",
    "for i in trange(embedding_dimensions):\n",
    "    comment_lookup.add_one(comment_text[i], comment_to_embeddings[i])\n",
    "\n",
    "print('Building comment index with {} trees...'.format(params['n']))\n",
    "comment_lookup.build(n=params['n'])"
   ]
  },
  {
   "cell_type": "markdown",
   "metadata": {},
   "source": [
    "### Looking at nearest neighbors\n",
    "\n",
    "There are 2 options available:\n",
    "- Search by vector\n",
    "- Search by text\n",
    "\n",
    "Both are demonstrated below, pay attention to arguments and the functions used to distinguish between the two options."
   ]
  },
  {
   "cell_type": "code",
   "execution_count": 14,
   "metadata": {},
   "outputs": [
    {
     "name": "stdout",
     "output_type": "stream",
     "text": [
      "The Mitsurugi point made no sense - why not argue to include Hindi on Ryo Sakazaki's page to include more information?\n"
     ]
    }
   ],
   "source": [
    "pick_comment = 18\n",
    "print(comment_text[pick_comment])"
   ]
  },
  {
   "cell_type": "code",
   "execution_count": 15,
   "metadata": {},
   "outputs": [
    {
     "data": {
      "text/plain": [
       "['\"\\nFair use rationale for Image:Wonju.jpg\\n\\nThanks for uploading Image:Wonju.jpg. I notice the image page specifies that the image is being used under fair use but there is no explanation or rationale as to why its use in Wikipedia articles constitutes fair use. In addition to the boilerplate fair use template, you must also write out on the image description page a specific explanation or rationale for why using this image in each article is consistent with fair use.\\n\\nPlease go to the image description page and edit it to include a fair use rationale.\\n\\nIf you have uploaded other fair use media, consider checking that you have specified the fair use rationale on those pages too. You can find a list of \\'image\\' pages you have edited by clicking on the \"\"my contributions\"\" link (it is located at the very top of any Wikipedia page when you are logged in), and then selecting \"\"Image\"\" from the dropdown box. Note that any fair use images uploaded after 4 May, 2006, and lacking such an explanation will be deleted one week after they have been uploaded, as described on criteria for speedy deletion. If you have any questions please ask them at the Media copyright questions page. Thank you. (talk • contribs • ) \\nUnspecified source for Image:Wonju.jpg\\n\\nThanks for uploading Image:Wonju.jpg. I noticed that the file\\'s description page currently doesn\\'t specify who created the content, so the copyright status is unclear. If you did not create this file yourself, then you will need to specify the owner of the copyright. If you obtained it from a website, then a link to the website from which it was taken, together with a restatement of that website\\'s terms of use of its content, is usually sufficient information. However, if the copyright holder is different from the website\\'s publisher, then their copyright should also be acknowledged.\\n\\nAs well as adding the source, please add a proper copyright licensing tag if the file doesn\\'t have one already. If you created/took the picture, audio, or video then the  tag can be used to release it under the GFDL. If you believe the media meets the criteria at Wikipedia:Fair use, use a tag such as  or one of the other tags listed at Wikipedia:Image copyright tags#Fair use. See Wikipedia:Image copyright tags for the full list of copyright tags that you can use.\\n\\nIf you have uploaded other files, consider checking that you have specified their source and tagged them, too. You can find a list of files you have uploaded by following [ this link]. Unsourced and untagged images may be deleted one week after they have been tagged, as described on criteria for speedy deletion. If the image is copyrighted under a non-free license (per Wikipedia:Fair use) then the image will be deleted 48 hours after . If you have any questions please ask them at the Media copyright questions page. Thank you. (talk • contribs • ) \"',\n",
       " '\"\\n\\nIs it scientific to attribute an event A, to cause B, where cause B was deliberate designed, with some sort of intelligent intent? Don\\'t answer the questions beyond that\\nWell, the problem with not answering beyond that is that your example is completely rigged. There are several major fundamental problems here.  \\n\\nFirst, you completely fail to mention the fact that the intelligence behind ID is quite literally not of this earth. Natural science might look at a honeycomb, see it is built by bees, and then find an odd looking fossilized honeycomb, and theorize that it was made by odd looking bees. That is fundamentally different than saying it was made by something not of this earth. ID has at its core the notion that something OUTSIDE the system we can observe is at cause here. This is not science in any sense of the word, it is mythology. When Paul Bunyan was having a wrestling match with babe his blue ox, they kicked up so much dirt they created the great lakes. No evidence of paul and his ox remain. i mean, really.  \\n\\nSecond, natural science takes an approach to knowledge that nothing is known scientific law unless it is irrefutable. Theories must have heavy supporting empirical data to back it up. ID turns this on its head and does an end run around knowledge and plays games with \"\"probabilities\"\". If no one can say how flagella on bacteria could have formed naturally, how in the hell can ID proponents come up with any sort of mathematically accurate PROBABILITY of flagella naturally forming on bacteria? If you don\\'t understand it, you can\\'t do statistics on it. ID jumps right over that hurdle and takes anything that doesn\\'t have a complete, detailed, natural explanation and jams in their own statistics that say \"\"well, it\\'s so improbable for this to happen, that someone MUST have designed it\"\". This is such a perversion of science. You can assign probabilities to something you don\\'t understand. ID is just making up their numbers.  \\n\\nFinally, your example has A->B, where B was deliberate design. that\\'s all well and good for a rigged example, except that with respect to life on earth, \"\"B\"\" is unknown. Your A->B example might qualify as forensic science, if \"\"A\"\" were a dead body and \"\"B\"\" were a bullet in the heart. You see a bunch of dead bodies with bullets through the heart, the next time you see a body with a bullet through the  heart, you can probably figure that\\'s what killed him. You don\\'t have that with life on earth. You have ONE scenario, \"\"A\"\", and you have no other cases to observe or test. So, in that sense, A->B is not scientific if you\\'ve never actually observed \"\"B\"\". (btw, B is teh intelligent designer, which has NEVER been observed). So, in that sense, no, it isn\\'t science.  \"',\n",
       " '\"\\n\\nBI, you said you wanted to talk\\n\\nAt the bottom of the lead section you have written:\\n\\n\"\"Its promoter speculated in 1994 that the skyhook concept could be cost competitive with what is realistically thought to be achievable using a space elevator, but the skyhook is not competitive with other rotating tether concepts. In addition, the rotating skyhook is in fact deemed \"\"not engineeringly feasible using presently available materials\"\".\"\"\\n\\nRegarding:  In addition, the rotating skyhook is in fact deemed \"\"not engineeringly feasible using presently available materials\"\"\\n\\nThat statement appears to come from Ref [3] on page 10.  The full quote is\\n\\n\"\"If the mass of the tether alone started to exceed 200 times the mass of the payload,\\nthen that was an indication the particular scenario being considered was not engineeringly\\nfeasible using presently available materials, although the application might become feasible in\\nthe near future as better materials become available with higher tensile strengths at higher\\noperational temperatures.\"\"\\n\\nIt then goes on to say\\n\\n\"\"As we shall see, presently available commercial materials will suffice to make the HASTOL\\ntethers needed. The primary message we want to leave with the Reader is:\\n“We don\\'t need magic materials like ‘Buckminster-Fuller-carbon-nanotubes’ to make\\nthe space tether facility for a HASTOL system. Existing materials will do.”\"\"\\n\\nSo it would appear that you misread your reference.  The tether mass of 200 times mass of the payload mass is the upper limit to the problem.  Systems where the tether mass is less than 200 times the payload mass can be built with \"\"presently available commercial materials.\"\"\\n\\nTo further reinforce this the Conclusion to the report states\\n\\n\"\"The fundamental conclusion of the Phase I HASTOL study effort is that the concept is\\ntechnically feasible. We have evaluated a number of alternate system configurations that will\\nallow hypersonic air-breathing vehicle technologies to be combined with orbiting, spinning space\\ntether technologies to provide a method of moving payloads from the surface of the Earth into\\nEarth orbit. For more than one HASTOL architecture concept, we have developed a design\\nsolution using existing, or near-term technologies. We expect that a number of the other\\nHASTOL architecture concepts will prove similarly technically feasible when subjected to\\ndetailed design studies. The systems are completely reusable and have the potential of drastically\\nreducing the cost of Earth-to-orbit space access.\"\"\\n\\nRegarding: \"\"but the skyhook is not competitive with other rotating tether concepts.\"\" and \\n\\n\"\"A 2000 Boeing report on the possibillity of combining skyhooks with hypersonic planes concluded that \"\"In general, the non-spinning tether HyperSkyhook concept does not look competitive with the spinning tether concepts.\"\".\"\"\\n\\nThe full quote is:\\n\\n\"\"HyperSkyhook\\n\\nIn 1995 Zubrin proposed the “Hypersonic Skyhook” as a solution to the mismatch between\\nthe attainable atmospheric speeds of a hypersonic airplane and the orbital speeds of space tethers.\\nSince the orbital speed of the space tether decreases with increasing altitu']"
      ]
     },
     "execution_count": 15,
     "metadata": {},
     "output_type": "execute_result"
    }
   ],
   "source": [
    "comment_lookup.nearest(vec=comment_to_embeddings[pick_comment], n=3)"
   ]
  },
  {
   "cell_type": "code",
   "execution_count": 16,
   "metadata": {},
   "outputs": [
    {
     "name": "stdout",
     "output_type": "stream",
     "text": [
      "The Mitsurugi point made no sense - why not argue to include Hindi on Ryo Sakazaki's page to include more information?\n"
     ]
    },
    {
     "data": {
      "text/plain": [
       "['\"\\nFair use rationale for Image:Wonju.jpg\\n\\nThanks for uploading Image:Wonju.jpg. I notice the image page specifies that the image is being used under fair use but there is no explanation or rationale as to why its use in Wikipedia articles constitutes fair use. In addition to the boilerplate fair use template, you must also write out on the image description page a specific explanation or rationale for why using this image in each article is consistent with fair use.\\n\\nPlease go to the image description page and edit it to include a fair use rationale.\\n\\nIf you have uploaded other fair use media, consider checking that you have specified the fair use rationale on those pages too. You can find a list of \\'image\\' pages you have edited by clicking on the \"\"my contributions\"\" link (it is located at the very top of any Wikipedia page when you are logged in), and then selecting \"\"Image\"\" from the dropdown box. Note that any fair use images uploaded after 4 May, 2006, and lacking such an explanation will be deleted one week after they have been uploaded, as described on criteria for speedy deletion. If you have any questions please ask them at the Media copyright questions page. Thank you. (talk • contribs • ) \\nUnspecified source for Image:Wonju.jpg\\n\\nThanks for uploading Image:Wonju.jpg. I noticed that the file\\'s description page currently doesn\\'t specify who created the content, so the copyright status is unclear. If you did not create this file yourself, then you will need to specify the owner of the copyright. If you obtained it from a website, then a link to the website from which it was taken, together with a restatement of that website\\'s terms of use of its content, is usually sufficient information. However, if the copyright holder is different from the website\\'s publisher, then their copyright should also be acknowledged.\\n\\nAs well as adding the source, please add a proper copyright licensing tag if the file doesn\\'t have one already. If you created/took the picture, audio, or video then the  tag can be used to release it under the GFDL. If you believe the media meets the criteria at Wikipedia:Fair use, use a tag such as  or one of the other tags listed at Wikipedia:Image copyright tags#Fair use. See Wikipedia:Image copyright tags for the full list of copyright tags that you can use.\\n\\nIf you have uploaded other files, consider checking that you have specified their source and tagged them, too. You can find a list of files you have uploaded by following [ this link]. Unsourced and untagged images may be deleted one week after they have been tagged, as described on criteria for speedy deletion. If the image is copyrighted under a non-free license (per Wikipedia:Fair use) then the image will be deleted 48 hours after . If you have any questions please ask them at the Media copyright questions page. Thank you. (talk • contribs • ) \"',\n",
       " '\"\\n\\nIs it scientific to attribute an event A, to cause B, where cause B was deliberate designed, with some sort of intelligent intent? Don\\'t answer the questions beyond that\\nWell, the problem with not answering beyond that is that your example is completely rigged. There are several major fundamental problems here.  \\n\\nFirst, you completely fail to mention the fact that the intelligence behind ID is quite literally not of this earth. Natural science might look at a honeycomb, see it is built by bees, and then find an odd looking fossilized honeycomb, and theorize that it was made by odd looking bees. That is fundamentally different than saying it was made by something not of this earth. ID has at its core the notion that something OUTSIDE the system we can observe is at cause here. This is not science in any sense of the word, it is mythology. When Paul Bunyan was having a wrestling match with babe his blue ox, they kicked up so much dirt they created the great lakes. No evidence of paul and his ox remain. i mean, really.  \\n\\nSecond, natural science takes an approach to knowledge that nothing is known scientific law unless it is irrefutable. Theories must have heavy supporting empirical data to back it up. ID turns this on its head and does an end run around knowledge and plays games with \"\"probabilities\"\". If no one can say how flagella on bacteria could have formed naturally, how in the hell can ID proponents come up with any sort of mathematically accurate PROBABILITY of flagella naturally forming on bacteria? If you don\\'t understand it, you can\\'t do statistics on it. ID jumps right over that hurdle and takes anything that doesn\\'t have a complete, detailed, natural explanation and jams in their own statistics that say \"\"well, it\\'s so improbable for this to happen, that someone MUST have designed it\"\". This is such a perversion of science. You can assign probabilities to something you don\\'t understand. ID is just making up their numbers.  \\n\\nFinally, your example has A->B, where B was deliberate design. that\\'s all well and good for a rigged example, except that with respect to life on earth, \"\"B\"\" is unknown. Your A->B example might qualify as forensic science, if \"\"A\"\" were a dead body and \"\"B\"\" were a bullet in the heart. You see a bunch of dead bodies with bullets through the heart, the next time you see a body with a bullet through the  heart, you can probably figure that\\'s what killed him. You don\\'t have that with life on earth. You have ONE scenario, \"\"A\"\", and you have no other cases to observe or test. So, in that sense, A->B is not scientific if you\\'ve never actually observed \"\"B\"\". (btw, B is teh intelligent designer, which has NEVER been observed). So, in that sense, no, it isn\\'t science.  \"',\n",
       " '\"\\n\\nBI, you said you wanted to talk\\n\\nAt the bottom of the lead section you have written:\\n\\n\"\"Its promoter speculated in 1994 that the skyhook concept could be cost competitive with what is realistically thought to be achievable using a space elevator, but the skyhook is not competitive with other rotating tether concepts. In addition, the rotating skyhook is in fact deemed \"\"not engineeringly feasible using presently available materials\"\".\"\"\\n\\nRegarding:  In addition, the rotating skyhook is in fact deemed \"\"not engineeringly feasible using presently available materials\"\"\\n\\nThat statement appears to come from Ref [3] on page 10.  The full quote is\\n\\n\"\"If the mass of the tether alone started to exceed 200 times the mass of the payload,\\nthen that was an indication the particular scenario being considered was not engineeringly\\nfeasible using presently available materials, although the application might become feasible in\\nthe near future as better materials become available with higher tensile strengths at higher\\noperational temperatures.\"\"\\n\\nIt then goes on to say\\n\\n\"\"As we shall see, presently available commercial materials will suffice to make the HASTOL\\ntethers needed. The primary message we want to leave with the Reader is:\\n“We don\\'t need magic materials like ‘Buckminster-Fuller-carbon-nanotubes’ to make\\nthe space tether facility for a HASTOL system. Existing materials will do.”\"\"\\n\\nSo it would appear that you misread your reference.  The tether mass of 200 times mass of the payload mass is the upper limit to the problem.  Systems where the tether mass is less than 200 times the payload mass can be built with \"\"presently available commercial materials.\"\"\\n\\nTo further reinforce this the Conclusion to the report states\\n\\n\"\"The fundamental conclusion of the Phase I HASTOL study effort is that the concept is\\ntechnically feasible. We have evaluated a number of alternate system configurations that will\\nallow hypersonic air-breathing vehicle technologies to be combined with orbiting, spinning space\\ntether technologies to provide a method of moving payloads from the surface of the Earth into\\nEarth orbit. For more than one HASTOL architecture concept, we have developed a design\\nsolution using existing, or near-term technologies. We expect that a number of the other\\nHASTOL architecture concepts will prove similarly technically feasible when subjected to\\ndetailed design studies. The systems are completely reusable and have the potential of drastically\\nreducing the cost of Earth-to-orbit space access.\"\"\\n\\nRegarding: \"\"but the skyhook is not competitive with other rotating tether concepts.\"\" and \\n\\n\"\"A 2000 Boeing report on the possibillity of combining skyhooks with hypersonic planes concluded that \"\"In general, the non-spinning tether HyperSkyhook concept does not look competitive with the spinning tether concepts.\"\".\"\"\\n\\nThe full quote is:\\n\\n\"\"HyperSkyhook\\n\\nIn 1995 Zubrin proposed the “Hypersonic Skyhook” as a solution to the mismatch between\\nthe attainable atmospheric speeds of a hypersonic airplane and the orbital speeds of space tethers.\\nSince the orbital speed of the space tether decreases with increasing altitu']"
      ]
     },
     "execution_count": 16,
     "metadata": {},
     "output_type": "execute_result"
    }
   ],
   "source": [
    "picked_comment_text = comment_text[pick_comment]\n",
    "print(picked_comment_text)\n",
    "comment_lookup.neighbors(item=picked_comment_text, n=3)"
   ]
  },
  {
   "cell_type": "markdown",
   "metadata": {},
   "source": [
    "### Save the nearest neighbour search model"
   ]
  },
  {
   "cell_type": "code",
   "execution_count": 17,
   "metadata": {},
   "outputs": [
    {
     "name": "stdout",
     "output_type": "stream",
     "text": [
      "lookup_annoy_model/lookup_annoy_toxic_word_model_dims128_metricdot_n40.annoy\n"
     ]
    }
   ],
   "source": [
    "model_write_dir = 'lookup_annoy_model'\n",
    "if not os.path.exists(model_write_dir):\n",
    "    os.makedirs(model_write_dir)\n",
    "    \n",
    "model_name = 'lookup_annoy_toxic_word_model_{}.annoy'.format(\"_\".join(sorted([p[0]+str(p[1]) for p in params.items()])))\n",
    "model_file_path = os.path.join(model_write_dir, model_name)\n",
    "print(model_file_path)"
   ]
  },
  {
   "cell_type": "code",
   "execution_count": 18,
   "metadata": {},
   "outputs": [],
   "source": [
    "comment_lookup.save(model_file_path)"
   ]
  },
  {
   "cell_type": "markdown",
   "metadata": {},
   "source": [
    "### References: \n",
    "* [Cross-Lingual Similarity and Semantic Search Engine with TF-Hub Multilingual Universal Encode](https://colab.research.google.com/github/tensorflow/hub/blob/master/examples/colab/cross_lingual_similarity_with_tf_hub_multilingual_universal_encoder.ipynb#scrollTo=yRoRT5qCEIYy)\n",
    "* Pretrained model: [nnlm-en-dim128/2](https://tfhub.dev/google/nnlm-en-dim128/2)\n",
    "* [Simple Neighbors API Reference](https://simpleneighbors.readthedocs.io/en/latest/simpleneighbors.html)"
   ]
  },
  {
   "cell_type": "code",
   "execution_count": null,
   "metadata": {},
   "outputs": [],
   "source": []
  }
 ],
 "metadata": {
  "kernelspec": {
   "display_name": "Python 3",
   "language": "python",
   "name": "python3"
  },
  "language_info": {
   "codemirror_mode": {
    "name": "ipython",
    "version": 3
   },
   "file_extension": ".py",
   "mimetype": "text/x-python",
   "name": "python",
   "nbconvert_exporter": "python",
   "pygments_lexer": "ipython3",
   "version": "3.7.6"
  }
 },
 "nbformat": 4,
 "nbformat_minor": 4
}
