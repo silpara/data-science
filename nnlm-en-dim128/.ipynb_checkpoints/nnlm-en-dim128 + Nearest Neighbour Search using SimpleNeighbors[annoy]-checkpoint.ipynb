{
 "cells": [
  {
   "cell_type": "markdown",
   "metadata": {},
   "source": [
    "# Universal Sentence Encoder + Nearest Neighbour Search using SimpleNeighbors[annoy]\n",
    "\n",
    "Tensorflow 2.0\n",
    "\n",
    "### Data\n",
    "Data used in this tutorial is taken from the training set of [Toxic Comment Classification Challenge](https://www.kaggle.com/c/jigsaw-toxic-comment-classification-challenge/data) on Kaggle.\n",
    "\n",
    "### Pretrained model\n",
    "Download and unzip the model [universal-sentence-encoder-multilingual-large](https://tfhub.dev/google/universal-sentence-encoder-multilingual-large/3) at a convenient location.\n",
    "\n",
    "Note that I have saved the model at /Users/abhay.shukla/universal-sentence-encoder-multilingual-large/3 and therefore module_url is set to that directory."
   ]
  },
  {
   "cell_type": "markdown",
   "metadata": {},
   "source": [
    "### Import libraries to use"
   ]
  },
  {
   "cell_type": "code",
   "execution_count": 1,
   "metadata": {},
   "outputs": [],
   "source": [
    "import tensorflow as tf\n",
    "import tensorflow_hub as hub\n",
    "import tensorflow_text\n",
    "import matplotlib.pyplot as plt\n",
    "import numpy as np\n",
    "import pandas as pd\n",
    "import re\n",
    "import os"
   ]
  },
  {
   "cell_type": "code",
   "execution_count": 2,
   "metadata": {},
   "outputs": [],
   "source": [
    "import bokeh\n",
    "import bokeh.models\n",
    "import bokeh.plotting\n",
    "from tensorflow_text import SentencepieceTokenizer\n",
    "import sklearn.metrics.pairwise\n",
    "from simpleneighbors import SimpleNeighbors\n",
    "from tqdm import tqdm\n",
    "from tqdm import trange"
   ]
  },
  {
   "cell_type": "markdown",
   "metadata": {},
   "source": [
    "### Load pretrained model and define function which returns the embedding"
   ]
  },
  {
   "cell_type": "code",
   "execution_count": 4,
   "metadata": {},
   "outputs": [
    {
     "name": "stdout",
     "output_type": "stream",
     "text": [
      "WARNING:tensorflow:From /Users/abhay.shukla/anaconda3/envs/tf2x/lib/python3.7/site-packages/tensorflow_core/python/ops/resource_variable_ops.py:1781: calling BaseResourceVariable.__init__ (from tensorflow.python.ops.resource_variable_ops) with constraint is deprecated and will be removed in a future version.\n",
      "Instructions for updating:\n",
      "If using Keras pass *_constraint arguments to layers.\n"
     ]
    }
   ],
   "source": [
    "module_url = '/Users/abhay.shukla/nnlm/1'\n",
    "model = hub.load(module_url)\n",
    "\n",
    "def embed_text(input):\n",
    "    return model(input)"
   ]
  },
  {
   "cell_type": "markdown",
   "metadata": {},
   "source": [
    "### Test model and visualize embedding similarity on a few manually selected sentences"
   ]
  },
  {
   "cell_type": "code",
   "execution_count": 5,
   "metadata": {},
   "outputs": [],
   "source": [
    "# Multilingual example\n",
    "multilingual_example = [\"Willkommen zu einfachen, aber\", \"verrassend krachtige\", \"multilingüe\", \"compréhension du langage naturel\", \"модели.\", \"大家是什么意思\" , \"보다 중요한\", \".اللغة التي يتحدثونها\"]\n",
    "multilingual_example_in_en =  [\"Welcome to simple yet\", \"surprisingly powerful\", \"multilingual\", \"natural language understanding\", \"models.\", \"What people mean\", \"matters more than\", \"the language they speak.\"]\n"
   ]
  },
  {
   "cell_type": "code",
   "execution_count": 6,
   "metadata": {},
   "outputs": [
    {
     "ename": "TypeError",
     "evalue": "'AutoTrackable' object is not callable",
     "output_type": "error",
     "traceback": [
      "\u001b[0;31m---------------------------------------------------------------------------\u001b[0m",
      "\u001b[0;31mTypeError\u001b[0m                                 Traceback (most recent call last)",
      "\u001b[0;32m<ipython-input-6-377d435bac20>\u001b[0m in \u001b[0;36m<module>\u001b[0;34m\u001b[0m\n\u001b[0;32m----> 1\u001b[0;31m \u001b[0mmultilingual_result\u001b[0m \u001b[0;34m=\u001b[0m \u001b[0membed_text\u001b[0m\u001b[0;34m(\u001b[0m\u001b[0mmultilingual_example\u001b[0m\u001b[0;34m)\u001b[0m\u001b[0;34m\u001b[0m\u001b[0;34m\u001b[0m\u001b[0m\n\u001b[0m\u001b[1;32m      2\u001b[0m \u001b[0mmultilingual_in_en_result\u001b[0m \u001b[0;34m=\u001b[0m \u001b[0membed_text\u001b[0m\u001b[0;34m(\u001b[0m\u001b[0mmultilingual_example_in_en\u001b[0m\u001b[0;34m)\u001b[0m\u001b[0;34m\u001b[0m\u001b[0;34m\u001b[0m\u001b[0m\n",
      "\u001b[0;32m<ipython-input-4-66466fa053b5>\u001b[0m in \u001b[0;36membed_text\u001b[0;34m(input)\u001b[0m\n\u001b[1;32m      3\u001b[0m \u001b[0;34m\u001b[0m\u001b[0m\n\u001b[1;32m      4\u001b[0m \u001b[0;32mdef\u001b[0m \u001b[0membed_text\u001b[0m\u001b[0;34m(\u001b[0m\u001b[0minput\u001b[0m\u001b[0;34m)\u001b[0m\u001b[0;34m:\u001b[0m\u001b[0;34m\u001b[0m\u001b[0;34m\u001b[0m\u001b[0m\n\u001b[0;32m----> 5\u001b[0;31m     \u001b[0;32mreturn\u001b[0m \u001b[0mmodel\u001b[0m\u001b[0;34m(\u001b[0m\u001b[0minput\u001b[0m\u001b[0;34m)\u001b[0m\u001b[0;34m\u001b[0m\u001b[0;34m\u001b[0m\u001b[0m\n\u001b[0m",
      "\u001b[0;31mTypeError\u001b[0m: 'AutoTrackable' object is not callable"
     ]
    }
   ],
   "source": [
    "multilingual_result = embed_text(multilingual_example)\n",
    "multilingual_in_en_result = embed_text(multilingual_example_in_en)"
   ]
  },
  {
   "cell_type": "code",
   "execution_count": 6,
   "metadata": {},
   "outputs": [],
   "source": [
    "def visualize_similarity(embeddings_1, embeddings_2, labels_1, labels_2, plot_title, plot_width=1200, plot_height=600,\n",
    "                         xaxis_font_size='12pt', yaxis_font_size='12pt'):\n",
    "\n",
    "    assert len(embeddings_1) == len(labels_1)\n",
    "    assert len(embeddings_2) == len(labels_2)\n",
    "\n",
    "    # arccos based text similarity (Yang et al. 2019; Cer et al. 2019)\n",
    "    sim = 1 - np.arccos(sklearn.metrics.pairwise.cosine_similarity(embeddings_1,embeddings_2))/np.pi\n",
    "\n",
    "    embeddings_1_col, embeddings_2_col, sim_col = [], [], []\n",
    "    for i in range(len(embeddings_1)):\n",
    "        for j in range(len(embeddings_2)):\n",
    "            embeddings_1_col.append(labels_1[i])\n",
    "            embeddings_2_col.append(labels_2[j])\n",
    "            sim_col.append(sim[i][j])\n",
    "    df = pd.DataFrame(zip(embeddings_1_col, embeddings_2_col, sim_col), columns=['embeddings_1', 'embeddings_2', 'sim'])\n",
    "\n",
    "    mapper = bokeh.models.LinearColorMapper( palette=[*reversed(bokeh.palettes.YlOrRd[9])], low=df.sim.min(),\n",
    "      high=df.sim.max())\n",
    "\n",
    "    p = bokeh.plotting.figure(title=plot_title, x_range=labels_1,\n",
    "                            x_axis_location=\"above\",\n",
    "                            y_range=[*reversed(labels_2)],\n",
    "                            plot_width=plot_width, plot_height=plot_height,\n",
    "                            tools=\"save\",toolbar_location='below', \n",
    "                              tooltips=[('pair', '@embeddings_1 ||| @embeddings_2'), ('sim', '@sim')])\n",
    "    p.rect(x=\"embeddings_1\", y=\"embeddings_2\", width=1, height=1, source=df, \n",
    "           fill_color={'field': 'sim', 'transform': mapper}, line_color=None)\n",
    "\n",
    "    p.title.text_font_size = '12pt'\n",
    "    p.axis.axis_line_color = None\n",
    "    p.axis.major_tick_line_color = None\n",
    "    p.axis.major_label_standoff = 16\n",
    "    p.xaxis.major_label_text_font_size = xaxis_font_size\n",
    "    p.xaxis.major_label_orientation = 0.25 * np.pi\n",
    "    p.yaxis.major_label_text_font_size = yaxis_font_size\n",
    "    p.min_border_right = 300\n",
    "\n",
    "    bokeh.io.output_notebook()\n",
    "    bokeh.io.show(p)\n"
   ]
  },
  {
   "cell_type": "code",
   "execution_count": 7,
   "metadata": {},
   "outputs": [
    {
     "data": {
      "text/html": [
       "\n",
       "    <div class=\"bk-root\">\n",
       "        <a href=\"https://bokeh.pydata.org\" target=\"_blank\" class=\"bk-logo bk-logo-small bk-logo-notebook\"></a>\n",
       "        <span id=\"a09fe4dd-8f8e-4eff-bb56-009e37523633\">Loading BokehJS ...</span>\n",
       "    </div>"
      ]
     },
     "metadata": {},
     "output_type": "display_data"
    },
    {
     "data": {
      "application/javascript": [
       "\n",
       "(function(root) {\n",
       "  function now() {\n",
       "    return new Date();\n",
       "  }\n",
       "\n",
       "  var force = true;\n",
       "\n",
       "  if (typeof (root._bokeh_onload_callbacks) === \"undefined\" || force === true) {\n",
       "    root._bokeh_onload_callbacks = [];\n",
       "    root._bokeh_is_loading = undefined;\n",
       "  }\n",
       "\n",
       "  var JS_MIME_TYPE = 'application/javascript';\n",
       "  var HTML_MIME_TYPE = 'text/html';\n",
       "  var EXEC_MIME_TYPE = 'application/vnd.bokehjs_exec.v0+json';\n",
       "  var CLASS_NAME = 'output_bokeh rendered_html';\n",
       "\n",
       "  /**\n",
       "   * Render data to the DOM node\n",
       "   */\n",
       "  function render(props, node) {\n",
       "    var script = document.createElement(\"script\");\n",
       "    node.appendChild(script);\n",
       "  }\n",
       "\n",
       "  /**\n",
       "   * Handle when an output is cleared or removed\n",
       "   */\n",
       "  function handleClearOutput(event, handle) {\n",
       "    var cell = handle.cell;\n",
       "\n",
       "    var id = cell.output_area._bokeh_element_id;\n",
       "    var server_id = cell.output_area._bokeh_server_id;\n",
       "    // Clean up Bokeh references\n",
       "    if (id != null && id in Bokeh.index) {\n",
       "      Bokeh.index[id].model.document.clear();\n",
       "      delete Bokeh.index[id];\n",
       "    }\n",
       "\n",
       "    if (server_id !== undefined) {\n",
       "      // Clean up Bokeh references\n",
       "      var cmd = \"from bokeh.io.state import curstate; print(curstate().uuid_to_server['\" + server_id + \"'].get_sessions()[0].document.roots[0]._id)\";\n",
       "      cell.notebook.kernel.execute(cmd, {\n",
       "        iopub: {\n",
       "          output: function(msg) {\n",
       "            var id = msg.content.text.trim();\n",
       "            if (id in Bokeh.index) {\n",
       "              Bokeh.index[id].model.document.clear();\n",
       "              delete Bokeh.index[id];\n",
       "            }\n",
       "          }\n",
       "        }\n",
       "      });\n",
       "      // Destroy server and session\n",
       "      var cmd = \"import bokeh.io.notebook as ion; ion.destroy_server('\" + server_id + \"')\";\n",
       "      cell.notebook.kernel.execute(cmd);\n",
       "    }\n",
       "  }\n",
       "\n",
       "  /**\n",
       "   * Handle when a new output is added\n",
       "   */\n",
       "  function handleAddOutput(event, handle) {\n",
       "    var output_area = handle.output_area;\n",
       "    var output = handle.output;\n",
       "\n",
       "    // limit handleAddOutput to display_data with EXEC_MIME_TYPE content only\n",
       "    if ((output.output_type != \"display_data\") || (!output.data.hasOwnProperty(EXEC_MIME_TYPE))) {\n",
       "      return\n",
       "    }\n",
       "\n",
       "    var toinsert = output_area.element.find(\".\" + CLASS_NAME.split(' ')[0]);\n",
       "\n",
       "    if (output.metadata[EXEC_MIME_TYPE][\"id\"] !== undefined) {\n",
       "      toinsert[toinsert.length - 1].firstChild.textContent = output.data[JS_MIME_TYPE];\n",
       "      // store reference to embed id on output_area\n",
       "      output_area._bokeh_element_id = output.metadata[EXEC_MIME_TYPE][\"id\"];\n",
       "    }\n",
       "    if (output.metadata[EXEC_MIME_TYPE][\"server_id\"] !== undefined) {\n",
       "      var bk_div = document.createElement(\"div\");\n",
       "      bk_div.innerHTML = output.data[HTML_MIME_TYPE];\n",
       "      var script_attrs = bk_div.children[0].attributes;\n",
       "      for (var i = 0; i < script_attrs.length; i++) {\n",
       "        toinsert[toinsert.length - 1].firstChild.setAttribute(script_attrs[i].name, script_attrs[i].value);\n",
       "      }\n",
       "      // store reference to server id on output_area\n",
       "      output_area._bokeh_server_id = output.metadata[EXEC_MIME_TYPE][\"server_id\"];\n",
       "    }\n",
       "  }\n",
       "\n",
       "  function register_renderer(events, OutputArea) {\n",
       "\n",
       "    function append_mime(data, metadata, element) {\n",
       "      // create a DOM node to render to\n",
       "      var toinsert = this.create_output_subarea(\n",
       "        metadata,\n",
       "        CLASS_NAME,\n",
       "        EXEC_MIME_TYPE\n",
       "      );\n",
       "      this.keyboard_manager.register_events(toinsert);\n",
       "      // Render to node\n",
       "      var props = {data: data, metadata: metadata[EXEC_MIME_TYPE]};\n",
       "      render(props, toinsert[toinsert.length - 1]);\n",
       "      element.append(toinsert);\n",
       "      return toinsert\n",
       "    }\n",
       "\n",
       "    /* Handle when an output is cleared or removed */\n",
       "    events.on('clear_output.CodeCell', handleClearOutput);\n",
       "    events.on('delete.Cell', handleClearOutput);\n",
       "\n",
       "    /* Handle when a new output is added */\n",
       "    events.on('output_added.OutputArea', handleAddOutput);\n",
       "\n",
       "    /**\n",
       "     * Register the mime type and append_mime function with output_area\n",
       "     */\n",
       "    OutputArea.prototype.register_mime_type(EXEC_MIME_TYPE, append_mime, {\n",
       "      /* Is output safe? */\n",
       "      safe: true,\n",
       "      /* Index of renderer in `output_area.display_order` */\n",
       "      index: 0\n",
       "    });\n",
       "  }\n",
       "\n",
       "  // register the mime type if in Jupyter Notebook environment and previously unregistered\n",
       "  if (root.Jupyter !== undefined) {\n",
       "    var events = require('base/js/events');\n",
       "    var OutputArea = require('notebook/js/outputarea').OutputArea;\n",
       "\n",
       "    if (OutputArea.prototype.mime_types().indexOf(EXEC_MIME_TYPE) == -1) {\n",
       "      register_renderer(events, OutputArea);\n",
       "    }\n",
       "  }\n",
       "\n",
       "  \n",
       "  if (typeof (root._bokeh_timeout) === \"undefined\" || force === true) {\n",
       "    root._bokeh_timeout = Date.now() + 5000;\n",
       "    root._bokeh_failed_load = false;\n",
       "  }\n",
       "\n",
       "  var NB_LOAD_WARNING = {'data': {'text/html':\n",
       "     \"<div style='background-color: #fdd'>\\n\"+\n",
       "     \"<p>\\n\"+\n",
       "     \"BokehJS does not appear to have successfully loaded. If loading BokehJS from CDN, this \\n\"+\n",
       "     \"may be due to a slow or bad network connection. Possible fixes:\\n\"+\n",
       "     \"</p>\\n\"+\n",
       "     \"<ul>\\n\"+\n",
       "     \"<li>re-rerun `output_notebook()` to attempt to load from CDN again, or</li>\\n\"+\n",
       "     \"<li>use INLINE resources instead, as so:</li>\\n\"+\n",
       "     \"</ul>\\n\"+\n",
       "     \"<code>\\n\"+\n",
       "     \"from bokeh.resources import INLINE\\n\"+\n",
       "     \"output_notebook(resources=INLINE)\\n\"+\n",
       "     \"</code>\\n\"+\n",
       "     \"</div>\"}};\n",
       "\n",
       "  function display_loaded() {\n",
       "    var el = document.getElementById(\"a09fe4dd-8f8e-4eff-bb56-009e37523633\");\n",
       "    if (el != null) {\n",
       "      el.textContent = \"BokehJS is loading...\";\n",
       "    }\n",
       "    if (root.Bokeh !== undefined) {\n",
       "      if (el != null) {\n",
       "        el.textContent = \"BokehJS \" + root.Bokeh.version + \" successfully loaded.\";\n",
       "      }\n",
       "    } else if (Date.now() < root._bokeh_timeout) {\n",
       "      setTimeout(display_loaded, 100)\n",
       "    }\n",
       "  }\n",
       "\n",
       "\n",
       "  function run_callbacks() {\n",
       "    try {\n",
       "      root._bokeh_onload_callbacks.forEach(function(callback) { callback() });\n",
       "    }\n",
       "    finally {\n",
       "      delete root._bokeh_onload_callbacks\n",
       "    }\n",
       "    console.info(\"Bokeh: all callbacks have finished\");\n",
       "  }\n",
       "\n",
       "  function load_libs(js_urls, callback) {\n",
       "    root._bokeh_onload_callbacks.push(callback);\n",
       "    if (root._bokeh_is_loading > 0) {\n",
       "      console.log(\"Bokeh: BokehJS is being loaded, scheduling callback at\", now());\n",
       "      return null;\n",
       "    }\n",
       "    if (js_urls == null || js_urls.length === 0) {\n",
       "      run_callbacks();\n",
       "      return null;\n",
       "    }\n",
       "    console.log(\"Bokeh: BokehJS not loaded, scheduling load and callback at\", now());\n",
       "    root._bokeh_is_loading = js_urls.length;\n",
       "    for (var i = 0; i < js_urls.length; i++) {\n",
       "      var url = js_urls[i];\n",
       "      var s = document.createElement('script');\n",
       "      s.src = url;\n",
       "      s.async = false;\n",
       "      s.onreadystatechange = s.onload = function() {\n",
       "        root._bokeh_is_loading--;\n",
       "        if (root._bokeh_is_loading === 0) {\n",
       "          console.log(\"Bokeh: all BokehJS libraries loaded\");\n",
       "          run_callbacks()\n",
       "        }\n",
       "      };\n",
       "      s.onerror = function() {\n",
       "        console.warn(\"failed to load library \" + url);\n",
       "      };\n",
       "      console.log(\"Bokeh: injecting script tag for BokehJS library: \", url);\n",
       "      document.getElementsByTagName(\"head\")[0].appendChild(s);\n",
       "    }\n",
       "  };var element = document.getElementById(\"a09fe4dd-8f8e-4eff-bb56-009e37523633\");\n",
       "  if (element == null) {\n",
       "    console.log(\"Bokeh: ERROR: autoload.js configured with elementid 'a09fe4dd-8f8e-4eff-bb56-009e37523633' but no matching script tag was found. \")\n",
       "    return false;\n",
       "  }\n",
       "\n",
       "  var js_urls = [\"https://cdn.pydata.org/bokeh/release/bokeh-0.13.0.min.js\", \"https://cdn.pydata.org/bokeh/release/bokeh-widgets-0.13.0.min.js\", \"https://cdn.pydata.org/bokeh/release/bokeh-tables-0.13.0.min.js\", \"https://cdn.pydata.org/bokeh/release/bokeh-gl-0.13.0.min.js\"];\n",
       "\n",
       "  var inline_js = [\n",
       "    function(Bokeh) {\n",
       "      Bokeh.set_log_level(\"info\");\n",
       "    },\n",
       "    \n",
       "    function(Bokeh) {\n",
       "      \n",
       "    },\n",
       "    function(Bokeh) {\n",
       "      console.log(\"Bokeh: injecting CSS: https://cdn.pydata.org/bokeh/release/bokeh-0.13.0.min.css\");\n",
       "      Bokeh.embed.inject_css(\"https://cdn.pydata.org/bokeh/release/bokeh-0.13.0.min.css\");\n",
       "      console.log(\"Bokeh: injecting CSS: https://cdn.pydata.org/bokeh/release/bokeh-widgets-0.13.0.min.css\");\n",
       "      Bokeh.embed.inject_css(\"https://cdn.pydata.org/bokeh/release/bokeh-widgets-0.13.0.min.css\");\n",
       "      console.log(\"Bokeh: injecting CSS: https://cdn.pydata.org/bokeh/release/bokeh-tables-0.13.0.min.css\");\n",
       "      Bokeh.embed.inject_css(\"https://cdn.pydata.org/bokeh/release/bokeh-tables-0.13.0.min.css\");\n",
       "    }\n",
       "  ];\n",
       "\n",
       "  function run_inline_js() {\n",
       "    \n",
       "    if ((root.Bokeh !== undefined) || (force === true)) {\n",
       "      for (var i = 0; i < inline_js.length; i++) {\n",
       "        inline_js[i].call(root, root.Bokeh);\n",
       "      }if (force === true) {\n",
       "        display_loaded();\n",
       "      }} else if (Date.now() < root._bokeh_timeout) {\n",
       "      setTimeout(run_inline_js, 100);\n",
       "    } else if (!root._bokeh_failed_load) {\n",
       "      console.log(\"Bokeh: BokehJS failed to load within specified timeout.\");\n",
       "      root._bokeh_failed_load = true;\n",
       "    } else if (force !== true) {\n",
       "      var cell = $(document.getElementById(\"a09fe4dd-8f8e-4eff-bb56-009e37523633\")).parents('.cell').data().cell;\n",
       "      cell.output_area.append_execute_result(NB_LOAD_WARNING)\n",
       "    }\n",
       "\n",
       "  }\n",
       "\n",
       "  if (root._bokeh_is_loading === 0) {\n",
       "    console.log(\"Bokeh: BokehJS loaded, going straight to plotting\");\n",
       "    run_inline_js();\n",
       "  } else {\n",
       "    load_libs(js_urls, function() {\n",
       "      console.log(\"Bokeh: BokehJS plotting callback run at\", now());\n",
       "      run_inline_js();\n",
       "    });\n",
       "  }\n",
       "}(window));"
      ],
      "application/vnd.bokehjs_load.v0+json": "\n(function(root) {\n  function now() {\n    return new Date();\n  }\n\n  var force = true;\n\n  if (typeof (root._bokeh_onload_callbacks) === \"undefined\" || force === true) {\n    root._bokeh_onload_callbacks = [];\n    root._bokeh_is_loading = undefined;\n  }\n\n  \n\n  \n  if (typeof (root._bokeh_timeout) === \"undefined\" || force === true) {\n    root._bokeh_timeout = Date.now() + 5000;\n    root._bokeh_failed_load = false;\n  }\n\n  var NB_LOAD_WARNING = {'data': {'text/html':\n     \"<div style='background-color: #fdd'>\\n\"+\n     \"<p>\\n\"+\n     \"BokehJS does not appear to have successfully loaded. If loading BokehJS from CDN, this \\n\"+\n     \"may be due to a slow or bad network connection. Possible fixes:\\n\"+\n     \"</p>\\n\"+\n     \"<ul>\\n\"+\n     \"<li>re-rerun `output_notebook()` to attempt to load from CDN again, or</li>\\n\"+\n     \"<li>use INLINE resources instead, as so:</li>\\n\"+\n     \"</ul>\\n\"+\n     \"<code>\\n\"+\n     \"from bokeh.resources import INLINE\\n\"+\n     \"output_notebook(resources=INLINE)\\n\"+\n     \"</code>\\n\"+\n     \"</div>\"}};\n\n  function display_loaded() {\n    var el = document.getElementById(\"a09fe4dd-8f8e-4eff-bb56-009e37523633\");\n    if (el != null) {\n      el.textContent = \"BokehJS is loading...\";\n    }\n    if (root.Bokeh !== undefined) {\n      if (el != null) {\n        el.textContent = \"BokehJS \" + root.Bokeh.version + \" successfully loaded.\";\n      }\n    } else if (Date.now() < root._bokeh_timeout) {\n      setTimeout(display_loaded, 100)\n    }\n  }\n\n\n  function run_callbacks() {\n    try {\n      root._bokeh_onload_callbacks.forEach(function(callback) { callback() });\n    }\n    finally {\n      delete root._bokeh_onload_callbacks\n    }\n    console.info(\"Bokeh: all callbacks have finished\");\n  }\n\n  function load_libs(js_urls, callback) {\n    root._bokeh_onload_callbacks.push(callback);\n    if (root._bokeh_is_loading > 0) {\n      console.log(\"Bokeh: BokehJS is being loaded, scheduling callback at\", now());\n      return null;\n    }\n    if (js_urls == null || js_urls.length === 0) {\n      run_callbacks();\n      return null;\n    }\n    console.log(\"Bokeh: BokehJS not loaded, scheduling load and callback at\", now());\n    root._bokeh_is_loading = js_urls.length;\n    for (var i = 0; i < js_urls.length; i++) {\n      var url = js_urls[i];\n      var s = document.createElement('script');\n      s.src = url;\n      s.async = false;\n      s.onreadystatechange = s.onload = function() {\n        root._bokeh_is_loading--;\n        if (root._bokeh_is_loading === 0) {\n          console.log(\"Bokeh: all BokehJS libraries loaded\");\n          run_callbacks()\n        }\n      };\n      s.onerror = function() {\n        console.warn(\"failed to load library \" + url);\n      };\n      console.log(\"Bokeh: injecting script tag for BokehJS library: \", url);\n      document.getElementsByTagName(\"head\")[0].appendChild(s);\n    }\n  };var element = document.getElementById(\"a09fe4dd-8f8e-4eff-bb56-009e37523633\");\n  if (element == null) {\n    console.log(\"Bokeh: ERROR: autoload.js configured with elementid 'a09fe4dd-8f8e-4eff-bb56-009e37523633' but no matching script tag was found. \")\n    return false;\n  }\n\n  var js_urls = [\"https://cdn.pydata.org/bokeh/release/bokeh-0.13.0.min.js\", \"https://cdn.pydata.org/bokeh/release/bokeh-widgets-0.13.0.min.js\", \"https://cdn.pydata.org/bokeh/release/bokeh-tables-0.13.0.min.js\", \"https://cdn.pydata.org/bokeh/release/bokeh-gl-0.13.0.min.js\"];\n\n  var inline_js = [\n    function(Bokeh) {\n      Bokeh.set_log_level(\"info\");\n    },\n    \n    function(Bokeh) {\n      \n    },\n    function(Bokeh) {\n      console.log(\"Bokeh: injecting CSS: https://cdn.pydata.org/bokeh/release/bokeh-0.13.0.min.css\");\n      Bokeh.embed.inject_css(\"https://cdn.pydata.org/bokeh/release/bokeh-0.13.0.min.css\");\n      console.log(\"Bokeh: injecting CSS: https://cdn.pydata.org/bokeh/release/bokeh-widgets-0.13.0.min.css\");\n      Bokeh.embed.inject_css(\"https://cdn.pydata.org/bokeh/release/bokeh-widgets-0.13.0.min.css\");\n      console.log(\"Bokeh: injecting CSS: https://cdn.pydata.org/bokeh/release/bokeh-tables-0.13.0.min.css\");\n      Bokeh.embed.inject_css(\"https://cdn.pydata.org/bokeh/release/bokeh-tables-0.13.0.min.css\");\n    }\n  ];\n\n  function run_inline_js() {\n    \n    if ((root.Bokeh !== undefined) || (force === true)) {\n      for (var i = 0; i < inline_js.length; i++) {\n        inline_js[i].call(root, root.Bokeh);\n      }if (force === true) {\n        display_loaded();\n      }} else if (Date.now() < root._bokeh_timeout) {\n      setTimeout(run_inline_js, 100);\n    } else if (!root._bokeh_failed_load) {\n      console.log(\"Bokeh: BokehJS failed to load within specified timeout.\");\n      root._bokeh_failed_load = true;\n    } else if (force !== true) {\n      var cell = $(document.getElementById(\"a09fe4dd-8f8e-4eff-bb56-009e37523633\")).parents('.cell').data().cell;\n      cell.output_area.append_execute_result(NB_LOAD_WARNING)\n    }\n\n  }\n\n  if (root._bokeh_is_loading === 0) {\n    console.log(\"Bokeh: BokehJS loaded, going straight to plotting\");\n    run_inline_js();\n  } else {\n    load_libs(js_urls, function() {\n      console.log(\"Bokeh: BokehJS plotting callback run at\", now());\n      run_inline_js();\n    });\n  }\n}(window));"
     },
     "metadata": {},
     "output_type": "display_data"
    },
    {
     "data": {
      "text/html": [
       "\n",
       "\n",
       "\n",
       "\n",
       "\n",
       "\n",
       "  <div class=\"bk-root\" id=\"95eb278f-56ff-44c8-b1ff-bdc8ceb513b3\"></div>\n"
      ]
     },
     "metadata": {},
     "output_type": "display_data"
    },
    {
     "data": {
      "application/javascript": [
       "(function(root) {\n",
       "  function embed_document(root) {\n",
       "    \n",
       "  var docs_json = {\"6e815e21-756f-4e00-b060-3fb570befdcb\":{\"roots\":{\"references\":[{\"attributes\":{\"above\":[{\"id\":\"d249ba47-d558-4600-9bef-6673b75047a5\",\"type\":\"CategoricalAxis\"}],\"left\":[{\"id\":\"bcaec502-d4e4-4c6d-ad04-46a7813ddd2c\",\"type\":\"CategoricalAxis\"}],\"min_border_right\":300,\"plot_width\":1200,\"renderers\":[{\"id\":\"d249ba47-d558-4600-9bef-6673b75047a5\",\"type\":\"CategoricalAxis\"},{\"id\":\"e11b8d85-f59b-426e-9ecb-d35250776f49\",\"type\":\"Grid\"},{\"id\":\"bcaec502-d4e4-4c6d-ad04-46a7813ddd2c\",\"type\":\"CategoricalAxis\"},{\"id\":\"2f1db637-efe7-45d4-bcc7-fe48bb182cd8\",\"type\":\"Grid\"},{\"id\":\"e0f8791e-88e5-46d1-8ad3-ece20f069803\",\"type\":\"GlyphRenderer\"}],\"title\":{\"id\":\"88452b59-003a-4193-ae36-dc98cc219cc5\",\"type\":\"Title\"},\"toolbar\":{\"id\":\"49c3e83f-7460-46c3-819d-318fd6807173\",\"type\":\"Toolbar\"},\"toolbar_location\":\"below\",\"x_range\":{\"id\":\"7bec2f75-8005-4cb1-8f55-7b3a31f53c41\",\"type\":\"FactorRange\"},\"x_scale\":{\"id\":\"9df8cf79-ac1d-44b6-afaf-c41f92fd26d3\",\"type\":\"CategoricalScale\"},\"y_range\":{\"id\":\"2d91553c-bd8d-4dd5-ba65-2493b09b571f\",\"type\":\"FactorRange\"},\"y_scale\":{\"id\":\"ddbdd7e0-7183-431b-a773-cc7a11d9ec50\",\"type\":\"CategoricalScale\"}},\"id\":\"6af327ad-cb0b-4aa7-bc06-d5c52ddb796b\",\"subtype\":\"Figure\",\"type\":\"Plot\"},{\"attributes\":{\"plot\":{\"id\":\"6af327ad-cb0b-4aa7-bc06-d5c52ddb796b\",\"subtype\":\"Figure\",\"type\":\"Plot\"},\"ticker\":{\"id\":\"d8b8b821-30a8-4a60-9856-908d03af068c\",\"type\":\"CategoricalTicker\"}},\"id\":\"e11b8d85-f59b-426e-9ecb-d35250776f49\",\"type\":\"Grid\"},{\"attributes\":{\"dimension\":1,\"plot\":{\"id\":\"6af327ad-cb0b-4aa7-bc06-d5c52ddb796b\",\"subtype\":\"Figure\",\"type\":\"Plot\"},\"ticker\":{\"id\":\"e95e9380-d667-4dab-a600-c6fc316c5e27\",\"type\":\"CategoricalTicker\"}},\"id\":\"2f1db637-efe7-45d4-bcc7-fe48bb182cd8\",\"type\":\"Grid\"},{\"attributes\":{\"fill_color\":{\"field\":\"sim\",\"transform\":{\"id\":\"b761caf7-b752-49f1-8fd7-2fc2e2d6ab31\",\"type\":\"LinearColorMapper\"}},\"height\":{\"units\":\"data\",\"value\":1},\"line_color\":{\"value\":null},\"width\":{\"units\":\"data\",\"value\":1},\"x\":{\"field\":\"embeddings_1\"},\"y\":{\"field\":\"embeddings_2\"}},\"id\":\"d0e05101-3b86-413c-8cba-c6e678cce63f\",\"type\":\"Rect\"},{\"attributes\":{\"callback\":null,\"data\":{\"embeddings_1\":[\"Welcome to simple yet\",\"Welcome to simple yet\",\"Welcome to simple yet\",\"Welcome to simple yet\",\"Welcome to simple yet\",\"Welcome to simple yet\",\"Welcome to simple yet\",\"Welcome to simple yet\",\"surprisingly powerful\",\"surprisingly powerful\",\"surprisingly powerful\",\"surprisingly powerful\",\"surprisingly powerful\",\"surprisingly powerful\",\"surprisingly powerful\",\"surprisingly powerful\",\"multilingual\",\"multilingual\",\"multilingual\",\"multilingual\",\"multilingual\",\"multilingual\",\"multilingual\",\"multilingual\",\"natural language understanding\",\"natural language understanding\",\"natural language understanding\",\"natural language understanding\",\"natural language understanding\",\"natural language understanding\",\"natural language understanding\",\"natural language understanding\",\"models.\",\"models.\",\"models.\",\"models.\",\"models.\",\"models.\",\"models.\",\"models.\",\"What people mean\",\"What people mean\",\"What people mean\",\"What people mean\",\"What people mean\",\"What people mean\",\"What people mean\",\"What people mean\",\"matters more than\",\"matters more than\",\"matters more than\",\"matters more than\",\"matters more than\",\"matters more than\",\"matters more than\",\"matters more than\",\"the language they speak.\",\"the language they speak.\",\"the language they speak.\",\"the language they speak.\",\"the language they speak.\",\"the language they speak.\",\"the language they speak.\",\"the language they speak.\"],\"embeddings_2\":[\"Willkommen zu einfachen, aber\",\"verrassend krachtige\",\"multiling\\u00fce\",\"compr\\u00e9hension du langage naturel\",\"\\u043c\\u043e\\u0434\\u0435\\u043b\\u0438.\",\"\\u5927\\u5bb6\\u662f\\u4ec0\\u4e48\\u610f\\u601d\",\"\\ubcf4\\ub2e4 \\uc911\\uc694\\ud55c\",\".\\u0627\\u0644\\u0644\\u063a\\u0629 \\u0627\\u0644\\u062a\\u064a \\u064a\\u062a\\u062d\\u062f\\u062b\\u0648\\u0646\\u0647\\u0627\",\"Willkommen zu einfachen, aber\",\"verrassend krachtige\",\"multiling\\u00fce\",\"compr\\u00e9hension du langage naturel\",\"\\u043c\\u043e\\u0434\\u0435\\u043b\\u0438.\",\"\\u5927\\u5bb6\\u662f\\u4ec0\\u4e48\\u610f\\u601d\",\"\\ubcf4\\ub2e4 \\uc911\\uc694\\ud55c\",\".\\u0627\\u0644\\u0644\\u063a\\u0629 \\u0627\\u0644\\u062a\\u064a \\u064a\\u062a\\u062d\\u062f\\u062b\\u0648\\u0646\\u0647\\u0627\",\"Willkommen zu einfachen, aber\",\"verrassend krachtige\",\"multiling\\u00fce\",\"compr\\u00e9hension du langage naturel\",\"\\u043c\\u043e\\u0434\\u0435\\u043b\\u0438.\",\"\\u5927\\u5bb6\\u662f\\u4ec0\\u4e48\\u610f\\u601d\",\"\\ubcf4\\ub2e4 \\uc911\\uc694\\ud55c\",\".\\u0627\\u0644\\u0644\\u063a\\u0629 \\u0627\\u0644\\u062a\\u064a \\u064a\\u062a\\u062d\\u062f\\u062b\\u0648\\u0646\\u0647\\u0627\",\"Willkommen zu einfachen, aber\",\"verrassend krachtige\",\"multiling\\u00fce\",\"compr\\u00e9hension du langage naturel\",\"\\u043c\\u043e\\u0434\\u0435\\u043b\\u0438.\",\"\\u5927\\u5bb6\\u662f\\u4ec0\\u4e48\\u610f\\u601d\",\"\\ubcf4\\ub2e4 \\uc911\\uc694\\ud55c\",\".\\u0627\\u0644\\u0644\\u063a\\u0629 \\u0627\\u0644\\u062a\\u064a \\u064a\\u062a\\u062d\\u062f\\u062b\\u0648\\u0646\\u0647\\u0627\",\"Willkommen zu einfachen, aber\",\"verrassend krachtige\",\"multiling\\u00fce\",\"compr\\u00e9hension du langage naturel\",\"\\u043c\\u043e\\u0434\\u0435\\u043b\\u0438.\",\"\\u5927\\u5bb6\\u662f\\u4ec0\\u4e48\\u610f\\u601d\",\"\\ubcf4\\ub2e4 \\uc911\\uc694\\ud55c\",\".\\u0627\\u0644\\u0644\\u063a\\u0629 \\u0627\\u0644\\u062a\\u064a \\u064a\\u062a\\u062d\\u062f\\u062b\\u0648\\u0646\\u0647\\u0627\",\"Willkommen zu einfachen, aber\",\"verrassend krachtige\",\"multiling\\u00fce\",\"compr\\u00e9hension du langage naturel\",\"\\u043c\\u043e\\u0434\\u0435\\u043b\\u0438.\",\"\\u5927\\u5bb6\\u662f\\u4ec0\\u4e48\\u610f\\u601d\",\"\\ubcf4\\ub2e4 \\uc911\\uc694\\ud55c\",\".\\u0627\\u0644\\u0644\\u063a\\u0629 \\u0627\\u0644\\u062a\\u064a \\u064a\\u062a\\u062d\\u062f\\u062b\\u0648\\u0646\\u0647\\u0627\",\"Willkommen zu einfachen, aber\",\"verrassend krachtige\",\"multiling\\u00fce\",\"compr\\u00e9hension du langage naturel\",\"\\u043c\\u043e\\u0434\\u0435\\u043b\\u0438.\",\"\\u5927\\u5bb6\\u662f\\u4ec0\\u4e48\\u610f\\u601d\",\"\\ubcf4\\ub2e4 \\uc911\\uc694\\ud55c\",\".\\u0627\\u0644\\u0644\\u063a\\u0629 \\u0627\\u0644\\u062a\\u064a \\u064a\\u062a\\u062d\\u062f\\u062b\\u0648\\u0646\\u0647\\u0627\",\"Willkommen zu einfachen, aber\",\"verrassend krachtige\",\"multiling\\u00fce\",\"compr\\u00e9hension du langage naturel\",\"\\u043c\\u043e\\u0434\\u0435\\u043b\\u0438.\",\"\\u5927\\u5bb6\\u662f\\u4ec0\\u4e48\\u610f\\u601d\",\"\\ubcf4\\ub2e4 \\uc911\\uc694\\ud55c\",\".\\u0627\\u0644\\u0644\\u063a\\u0629 \\u0627\\u0644\\u062a\\u064a \\u064a\\u062a\\u062d\\u062f\\u062b\\u0648\\u0646\\u0647\\u0627\"],\"index\":[0,1,2,3,4,5,6,7,8,9,10,11,12,13,14,15,16,17,18,19,20,21,22,23,24,25,26,27,28,29,30,31,32,33,34,35,36,37,38,39,40,41,42,43,44,45,46,47,48,49,50,51,52,53,54,55,56,57,58,59,60,61,62,63],\"sim\":{\"__ndarray__\":\"AAAAALqW6j8AAAAA/xLhPwAAAMBCyuA/AAAAAIV74T8AAADAq+jfPwAAAMC09eE/AAAAQCmq4D8AAABAsmDgPwAAAOAc2+A/AAAAgDy+6z8AAABADCviPwAAAAA5d+E/AAAAACaU4T8AAABA2YfgPwAAAAC9SuQ/AAAAAN7G4D8AAADAofrgPwAAAMAxROI/AAAAAAgk7D8AAADAeNfkPwAAAAApxOI/AAAAoKA84T8AAAAgB+3iPwAAAMDb4uU/AAAAYJ3x4T8AAABApM/hPwAAAIDI+OQ/AAAAgIyY7D8AAADAeKjhPwAAAAAD5uE/AAAAAO2W4T8AAABA9WLlPwAAAMDVMuA/AAAAgIJH4T8AAABATTHiPwAAAECMW+E/AAAAoIKi7T8AAABAkA7hPwAAACDfNeI/AAAAQLoN4j8AAAAgi/rgPwAAAIACnOA/AAAAQMt64T8AAADAB0/iPwAAAAA8qeE/AAAAgJfB5z8AAACAcw7iPwAAAMCaouM/AAAAwJEW4T8AAADApwjjPwAAAADheuI/AAAAAFfT4T8AAADA+WriPwAAACBbwuE/AAAAwCTr6j8AAAAAUuPhPwAAAMBiTOA/AAAAQGB24D8AAADAgPPkPwAAAKAIiOQ/AAAAgAzD4j8AAAAAQMDhPwAAAEA7vOA/AAAAABBK6j8=\",\"dtype\":\"float64\",\"shape\":[64]}},\"selected\":{\"id\":\"acde814c-4eae-4341-b694-843182298982\",\"type\":\"Selection\"},\"selection_policy\":{\"id\":\"109a5ed5-30ae-48fe-9612-f4bb0ae28ff4\",\"type\":\"UnionRenderers\"}},\"id\":\"f18680ad-4b21-41c9-b28a-b61ce942e99b\",\"type\":\"ColumnDataSource\"},{\"attributes\":{\"source\":{\"id\":\"f18680ad-4b21-41c9-b28a-b61ce942e99b\",\"type\":\"ColumnDataSource\"}},\"id\":\"d177ffb6-6896-4f72-9537-556bfdba74fa\",\"type\":\"CDSView\"},{\"attributes\":{},\"id\":\"ddbdd7e0-7183-431b-a773-cc7a11d9ec50\",\"type\":\"CategoricalScale\"},{\"attributes\":{},\"id\":\"9df8cf79-ac1d-44b6-afaf-c41f92fd26d3\",\"type\":\"CategoricalScale\"},{\"attributes\":{},\"id\":\"e95e9380-d667-4dab-a600-c6fc316c5e27\",\"type\":\"CategoricalTicker\"},{\"attributes\":{},\"id\":\"d8b8b821-30a8-4a60-9856-908d03af068c\",\"type\":\"CategoricalTicker\"},{\"attributes\":{\"axis_line_color\":{\"value\":null},\"formatter\":{\"id\":\"48c1f419-b472-4457-803f-0947b889afd1\",\"type\":\"CategoricalTickFormatter\"},\"major_label_standoff\":16,\"major_label_text_font_size\":{\"value\":\"12pt\"},\"major_tick_line_color\":{\"value\":null},\"plot\":{\"id\":\"6af327ad-cb0b-4aa7-bc06-d5c52ddb796b\",\"subtype\":\"Figure\",\"type\":\"Plot\"},\"ticker\":{\"id\":\"e95e9380-d667-4dab-a600-c6fc316c5e27\",\"type\":\"CategoricalTicker\"}},\"id\":\"bcaec502-d4e4-4c6d-ad04-46a7813ddd2c\",\"type\":\"CategoricalAxis\"},{\"attributes\":{},\"id\":\"885c86ae-1c07-47ca-b973-6435c61751d5\",\"type\":\"CategoricalTickFormatter\"},{\"attributes\":{},\"id\":\"109a5ed5-30ae-48fe-9612-f4bb0ae28ff4\",\"type\":\"UnionRenderers\"},{\"attributes\":{\"callback\":null,\"renderers\":\"auto\",\"tooltips\":[[\"pair\",\"@embeddings_1 ||| @embeddings_2\"],[\"sim\",\"@sim\"]]},\"id\":\"879af110-48f4-4e0a-9073-c5392d4b3057\",\"type\":\"HoverTool\"},{\"attributes\":{\"fill_alpha\":{\"value\":0.1},\"fill_color\":{\"value\":\"#1f77b4\"},\"height\":{\"units\":\"data\",\"value\":1},\"line_alpha\":{\"value\":0.1},\"line_color\":{\"value\":\"#1f77b4\"},\"width\":{\"units\":\"data\",\"value\":1},\"x\":{\"field\":\"embeddings_1\"},\"y\":{\"field\":\"embeddings_2\"}},\"id\":\"fd350439-68df-48e5-ab2e-932fddd8381c\",\"type\":\"Rect\"},{\"attributes\":{\"callback\":null,\"factors\":[\"Welcome to simple yet\",\"surprisingly powerful\",\"multilingual\",\"natural language understanding\",\"models.\",\"What people mean\",\"matters more than\",\"the language they speak.\"]},\"id\":\"7bec2f75-8005-4cb1-8f55-7b3a31f53c41\",\"type\":\"FactorRange\"},{\"attributes\":{\"axis_line_color\":{\"value\":null},\"formatter\":{\"id\":\"885c86ae-1c07-47ca-b973-6435c61751d5\",\"type\":\"CategoricalTickFormatter\"},\"major_label_orientation\":0.7853981633974483,\"major_label_standoff\":16,\"major_label_text_font_size\":{\"value\":\"12pt\"},\"major_tick_line_color\":{\"value\":null},\"plot\":{\"id\":\"6af327ad-cb0b-4aa7-bc06-d5c52ddb796b\",\"subtype\":\"Figure\",\"type\":\"Plot\"},\"ticker\":{\"id\":\"d8b8b821-30a8-4a60-9856-908d03af068c\",\"type\":\"CategoricalTicker\"}},\"id\":\"d249ba47-d558-4600-9bef-6673b75047a5\",\"type\":\"CategoricalAxis\"},{\"attributes\":{},\"id\":\"48c1f419-b472-4457-803f-0947b889afd1\",\"type\":\"CategoricalTickFormatter\"},{\"attributes\":{\"active_drag\":\"auto\",\"active_inspect\":\"auto\",\"active_multi\":null,\"active_scroll\":\"auto\",\"active_tap\":\"auto\",\"tools\":[{\"id\":\"ab1d0636-cf95-413c-a7d9-f3804fe5fc4a\",\"type\":\"SaveTool\"},{\"id\":\"879af110-48f4-4e0a-9073-c5392d4b3057\",\"type\":\"HoverTool\"}]},\"id\":\"49c3e83f-7460-46c3-819d-318fd6807173\",\"type\":\"Toolbar\"},{\"attributes\":{},\"id\":\"ab1d0636-cf95-413c-a7d9-f3804fe5fc4a\",\"type\":\"SaveTool\"},{\"attributes\":{\"callback\":null,\"factors\":[\".\\u0627\\u0644\\u0644\\u063a\\u0629 \\u0627\\u0644\\u062a\\u064a \\u064a\\u062a\\u062d\\u062f\\u062b\\u0648\\u0646\\u0647\\u0627\",\"\\ubcf4\\ub2e4 \\uc911\\uc694\\ud55c\",\"\\u5927\\u5bb6\\u662f\\u4ec0\\u4e48\\u610f\\u601d\",\"\\u043c\\u043e\\u0434\\u0435\\u043b\\u0438.\",\"compr\\u00e9hension du langage naturel\",\"multiling\\u00fce\",\"verrassend krachtige\",\"Willkommen zu einfachen, aber\"]},\"id\":\"2d91553c-bd8d-4dd5-ba65-2493b09b571f\",\"type\":\"FactorRange\"},{\"attributes\":{\"plot\":null,\"text\":\"Multilingual Universal Sentence Encoder for Semantic Retrieval (Yang et al., 2019)\",\"text_font_size\":{\"value\":\"12pt\"}},\"id\":\"88452b59-003a-4193-ae36-dc98cc219cc5\",\"type\":\"Title\"},{\"attributes\":{\"high\":0.9260876774787903,\"low\":0.4985761046409607,\"palette\":[\"#ffffcc\",\"#ffeda0\",\"#fed976\",\"#feb24c\",\"#fd8d3c\",\"#fc4e2a\",\"#e31a1c\",\"#bd0026\",\"#800026\"]},\"id\":\"b761caf7-b752-49f1-8fd7-2fc2e2d6ab31\",\"type\":\"LinearColorMapper\"},{\"attributes\":{},\"id\":\"acde814c-4eae-4341-b694-843182298982\",\"type\":\"Selection\"},{\"attributes\":{\"data_source\":{\"id\":\"f18680ad-4b21-41c9-b28a-b61ce942e99b\",\"type\":\"ColumnDataSource\"},\"glyph\":{\"id\":\"d0e05101-3b86-413c-8cba-c6e678cce63f\",\"type\":\"Rect\"},\"hover_glyph\":null,\"muted_glyph\":null,\"nonselection_glyph\":{\"id\":\"fd350439-68df-48e5-ab2e-932fddd8381c\",\"type\":\"Rect\"},\"selection_glyph\":null,\"view\":{\"id\":\"d177ffb6-6896-4f72-9537-556bfdba74fa\",\"type\":\"CDSView\"}},\"id\":\"e0f8791e-88e5-46d1-8ad3-ece20f069803\",\"type\":\"GlyphRenderer\"}],\"root_ids\":[\"6af327ad-cb0b-4aa7-bc06-d5c52ddb796b\"]},\"title\":\"Bokeh Application\",\"version\":\"0.13.0\"}};\n",
       "  var render_items = [{\"docid\":\"6e815e21-756f-4e00-b060-3fb570befdcb\",\"roots\":{\"6af327ad-cb0b-4aa7-bc06-d5c52ddb796b\":\"95eb278f-56ff-44c8-b1ff-bdc8ceb513b3\"}}];\n",
       "  root.Bokeh.embed.embed_items_notebook(docs_json, render_items);\n",
       "\n",
       "  }\n",
       "  if (root.Bokeh !== undefined) {\n",
       "    embed_document(root);\n",
       "  } else {\n",
       "    var attempts = 0;\n",
       "    var timer = setInterval(function(root) {\n",
       "      if (root.Bokeh !== undefined) {\n",
       "        embed_document(root);\n",
       "        clearInterval(timer);\n",
       "      }\n",
       "      attempts++;\n",
       "      if (attempts > 100) {\n",
       "        console.log(\"Bokeh: ERROR: Unable to run BokehJS code because BokehJS library is missing\")\n",
       "        clearInterval(timer);\n",
       "      }\n",
       "    }, 10, root)\n",
       "  }\n",
       "})(window);"
      ],
      "application/vnd.bokehjs_exec.v0+json": ""
     },
     "metadata": {
      "application/vnd.bokehjs_exec.v0+json": {
       "id": "6af327ad-cb0b-4aa7-bc06-d5c52ddb796b"
      }
     },
     "output_type": "display_data"
    }
   ],
   "source": [
    "visualize_similarity(multilingual_in_en_result, multilingual_result,\n",
    "                     multilingual_example_in_en, multilingual_example,  \"Multilingual Universal Sentence Encoder for Semantic Retrieval (Yang et al., 2019)\")\n"
   ]
  },
  {
   "cell_type": "markdown",
   "metadata": {},
   "source": [
    "### Load sample of your data\n",
    "Note that when data file is huge \n",
    "- you can load data by chunks and \n",
    "- you can also load only those columns which you are going to use. \n",
    "Both of these features of pandas are shown below."
   ]
  },
  {
   "cell_type": "code",
   "execution_count": 8,
   "metadata": {},
   "outputs": [],
   "source": [
    "train = pd.read_csv('../word2vec/data/train.csv.zip', header=0, chunksize=10, usecols=['comment_text'])"
   ]
  },
  {
   "cell_type": "code",
   "execution_count": 9,
   "metadata": {},
   "outputs": [
    {
     "name": "stdout",
     "output_type": "stream",
     "text": [
      "                                        comment_text\n",
      "0  Explanation\\nWhy the edits made under my usern...\n",
      "1  D'aww! He matches this background colour I'm s...\n",
      "2  Hey man, I'm really not trying to edit war. It...\n",
      "3  \"\\nMore\\nI can't make any real suggestions on ...\n",
      "4  You, sir, are my hero. Any chance you remember...\n",
      "5  \"\\n\\nCongratulations from me as well, use the ...\n",
      "6       COCKSUCKER BEFORE YOU PISS AROUND ON MY WORK\n",
      "7  Your vandalism to the Matt Shirvington article...\n",
      "8  Sorry if the word 'nonsense' was offensive to ...\n",
      "9  alignment on this subject and which are contra...\n"
     ]
    }
   ],
   "source": [
    "for batch in train:\n",
    "    print(batch)\n",
    "    break"
   ]
  },
  {
   "cell_type": "markdown",
   "metadata": {},
   "source": [
    "### Embed predetermined number of data points using pretrained Univeral Sentence Encoder Model\n",
    "Note that the objective here is to load 1280 examples (a randomly chosen number for sake of demonstration). <br>\n",
    "This will be loaded in 80 chunks of 16 batches each (80 * 16 = 1280) to avoid out of memory error.\n",
    "\n",
    "We are using tqdm to show progress bar. (niceties of the world!)"
   ]
  },
  {
   "cell_type": "code",
   "execution_count": 10,
   "metadata": {},
   "outputs": [
    {
     "name": "stderr",
     "output_type": "stream",
     "text": [
      "100%|██████████| 1280/1280 [05:18<00:00,  4.02it/s]\n"
     ]
    }
   ],
   "source": [
    "comment_to_embeddings = []\n",
    "comment_text = []\n",
    "chunks = 80\n",
    "batch_size = 16\n",
    "with tqdm(total=chunks*batch_size) as pbar:\n",
    "    for idx, batch in enumerate(pd.read_csv('../word2vec/data/train.csv.zip',header=0, chunksize=batch_size, usecols=['comment_text'])):\n",
    "        comment_text.extend(batch[['comment_text']].values)\n",
    "        comment_to_embeddings.extend(embed_text(comment_text[-batch_size:]))\n",
    "        pbar.update(len(batch))\n",
    "        if idx + 1 == chunks:\n",
    "            break"
   ]
  },
  {
   "cell_type": "code",
   "execution_count": 11,
   "metadata": {},
   "outputs": [],
   "source": [
    "assert len(comment_to_embeddings) == len(comment_text)"
   ]
  },
  {
   "cell_type": "markdown",
   "metadata": {},
   "source": [
    "### Building Nearest Neighbour Search Model\n",
    "- First we need to add (sentence text, sentence embedding) data to index of the model. \n",
    "- Next we train the model by selecting a predetermined number of trees (n)"
   ]
  },
  {
   "cell_type": "code",
   "execution_count": 12,
   "metadata": {},
   "outputs": [
    {
     "name": "stderr",
     "output_type": "stream",
     "text": [
      "100%|██████████| 512/512 [02:06<00:00,  4.06it/s]"
     ]
    },
    {
     "name": "stdout",
     "output_type": "stream",
     "text": [
      "Building comment index with 40 trees...\n"
     ]
    },
    {
     "name": "stderr",
     "output_type": "stream",
     "text": [
      "\n"
     ]
    }
   ],
   "source": [
    "embedding_dimensions = comment_to_embeddings[0].shape[0]\n",
    "params = dict(n = 40, metric='dot', dims=embedding_dimensions)\n",
    "comment_lookup = SimpleNeighbors(dims=params['dims'], metric=params['metric'])\n",
    "\n",
    "for i in trange(embedding_dimensions):\n",
    "    comment_lookup.add_one(comment_text[i][0], comment_to_embeddings[i])\n",
    "\n",
    "print('Building comment index with {} trees...'.format(params['n']))\n",
    "comment_lookup.build(n=params['n'])"
   ]
  },
  {
   "cell_type": "markdown",
   "metadata": {},
   "source": [
    "### Looking at nearest neighbors\n",
    "\n",
    "There are 2 options available:\n",
    "- Search by vector\n",
    "- Search by text\n",
    "\n",
    "Both are demonstrated below, pay attention to arguments and the functions used to distinguish between the two options."
   ]
  },
  {
   "cell_type": "code",
   "execution_count": 13,
   "metadata": {},
   "outputs": [
    {
     "name": "stdout",
     "output_type": "stream",
     "text": [
      "The Mitsurugi point made no sense - why not argue to include Hindi on Ryo Sakazaki's page to include more information?\n"
     ]
    }
   ],
   "source": [
    "pick_comment = 18\n",
    "print(comment_text[pick_comment][0])"
   ]
  },
  {
   "cell_type": "code",
   "execution_count": 14,
   "metadata": {},
   "outputs": [
    {
     "data": {
      "text/plain": [
       "[\"The Mitsurugi point made no sense - why not argue to include Hindi on Ryo Sakazaki's page to include more information?\",\n",
       " \"Notability of Rurika Kasuga\\nA tag has been placed on Rurika Kasuga, requesting that it be speedily deleted from Wikipedia. This has been done because the article seems to be about a person, group of people, band, club, company, or web content, but it does not indicate how or why the subject is notable, that is, why an article about that subject should be included in Wikipedia. Under the criteria for speedy deletion, articles that do not assert notability may be deleted at any time. Please see the guidelines for what is generally accepted as notable, and if you can indicate why the subject of this article is notable, you may contest the tagging. To do this, add  on the top of the page (below the existing db tag) and leave a note on the article's talk page explaining your position. Please do not remove the speedy deletion tag yourself, but don't hesitate to add information to the article that would confirm its subject's notability under the guidelines.\\n\\nFor guidelines on specific types of articles, you may want to check out our criteria for biographies, for web sites, for bands, or for companies. Feel free to leave a note on my talk page if you have any questions about this.\",\n",
       " \"Meivazhi\\nI've had a go at restarting the Meivazhi article in a style that's more standard for Wikipedia articles. Someone would probably have deleted it pretty quickly if it had stayed in the form you posted. I'd be grateful if you could help at Talk:Meivazhi about the accuracy. \\n\\nUnfortunately I had to remove your links. The conflict of interest guidelines advise against editors linking to their own sites, and also Wikipedia's attribution policy WP:ATT requires that information should come from third-party published sources rather than personal websites. Do you know of any good newspaper/book accounts of Meivazhi?  \\n\\nPS What is the salaimanimudi.indlist.com site? A personal site by a member?\"]"
      ]
     },
     "execution_count": 14,
     "metadata": {},
     "output_type": "execute_result"
    }
   ],
   "source": [
    "comment_lookup.nearest(vec=comment_to_embeddings[pick_comment], n=3)"
   ]
  },
  {
   "cell_type": "code",
   "execution_count": 15,
   "metadata": {},
   "outputs": [
    {
     "name": "stdout",
     "output_type": "stream",
     "text": [
      "The Mitsurugi point made no sense - why not argue to include Hindi on Ryo Sakazaki's page to include more information?\n"
     ]
    },
    {
     "data": {
      "text/plain": [
       "[\"The Mitsurugi point made no sense - why not argue to include Hindi on Ryo Sakazaki's page to include more information?\",\n",
       " \"Notability of Rurika Kasuga\\nA tag has been placed on Rurika Kasuga, requesting that it be speedily deleted from Wikipedia. This has been done because the article seems to be about a person, group of people, band, club, company, or web content, but it does not indicate how or why the subject is notable, that is, why an article about that subject should be included in Wikipedia. Under the criteria for speedy deletion, articles that do not assert notability may be deleted at any time. Please see the guidelines for what is generally accepted as notable, and if you can indicate why the subject of this article is notable, you may contest the tagging. To do this, add  on the top of the page (below the existing db tag) and leave a note on the article's talk page explaining your position. Please do not remove the speedy deletion tag yourself, but don't hesitate to add information to the article that would confirm its subject's notability under the guidelines.\\n\\nFor guidelines on specific types of articles, you may want to check out our criteria for biographies, for web sites, for bands, or for companies. Feel free to leave a note on my talk page if you have any questions about this.\",\n",
       " \"Meivazhi\\nI've had a go at restarting the Meivazhi article in a style that's more standard for Wikipedia articles. Someone would probably have deleted it pretty quickly if it had stayed in the form you posted. I'd be grateful if you could help at Talk:Meivazhi about the accuracy. \\n\\nUnfortunately I had to remove your links. The conflict of interest guidelines advise against editors linking to their own sites, and also Wikipedia's attribution policy WP:ATT requires that information should come from third-party published sources rather than personal websites. Do you know of any good newspaper/book accounts of Meivazhi?  \\n\\nPS What is the salaimanimudi.indlist.com site? A personal site by a member?\"]"
      ]
     },
     "execution_count": 15,
     "metadata": {},
     "output_type": "execute_result"
    }
   ],
   "source": [
    "picked_comment_text = comment_text[pick_comment][0]\n",
    "print(picked_comment_text)\n",
    "comment_lookup.neighbors(item=picked_comment_text, n=3)"
   ]
  },
  {
   "cell_type": "markdown",
   "metadata": {},
   "source": [
    "### Save the nearest neighbour search model"
   ]
  },
  {
   "cell_type": "code",
   "execution_count": 16,
   "metadata": {},
   "outputs": [
    {
     "name": "stdout",
     "output_type": "stream",
     "text": [
      "lookup_annoy_model/lookup_annoy_toxic_word_model_dims512_metricdot_n40.annoy\n"
     ]
    }
   ],
   "source": [
    "model_write_dir = 'lookup_annoy_model'\n",
    "if not os.path.exists(model_write_dir):\n",
    "    os.makedirs(model_write_dir)\n",
    "    \n",
    "model_name = 'lookup_annoy_toxic_word_model_{}.annoy'.format(\"_\".join(sorted([p[0]+str(p[1]) for p in params.items()])))\n",
    "model_file_path = os.path.join(model_write_dir, model_name)\n",
    "print(model_file_path)"
   ]
  },
  {
   "cell_type": "code",
   "execution_count": 17,
   "metadata": {},
   "outputs": [],
   "source": [
    "comment_lookup.save(model_file_path)"
   ]
  },
  {
   "cell_type": "markdown",
   "metadata": {},
   "source": [
    "### References: \n",
    "* [Cross-Lingual Similarity and Semantic Search Engine with TF-Hub Multilingual Universal Encode](https://colab.research.google.com/github/tensorflow/hub/blob/master/examples/colab/cross_lingual_similarity_with_tf_hub_multilingual_universal_encoder.ipynb#scrollTo=yRoRT5qCEIYy)\n",
    "* Pretrained model: [universal-sentence-encoder-multilingual-large](https://tfhub.dev/google/universal-sentence-encoder-multilingual-large/3)\n",
    "* [Simple Neighbors API Reference](https://simpleneighbors.readthedocs.io/en/latest/simpleneighbors.html)"
   ]
  },
  {
   "cell_type": "code",
   "execution_count": null,
   "metadata": {},
   "outputs": [],
   "source": []
  }
 ],
 "metadata": {
  "kernelspec": {
   "display_name": "Python 3",
   "language": "python",
   "name": "python3"
  },
  "language_info": {
   "codemirror_mode": {
    "name": "ipython",
    "version": 3
   },
   "file_extension": ".py",
   "mimetype": "text/x-python",
   "name": "python",
   "nbconvert_exporter": "python",
   "pygments_lexer": "ipython3",
   "version": "3.7.6"
  }
 },
 "nbformat": 4,
 "nbformat_minor": 4
}
