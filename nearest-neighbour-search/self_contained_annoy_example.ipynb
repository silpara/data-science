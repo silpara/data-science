{
 "cells": [
  {
   "cell_type": "markdown",
   "metadata": {},
   "source": [
    "# Self contained Nearest Neighbour Search example using annoy"
   ]
  },
  {
   "cell_type": "code",
   "execution_count": 1,
   "metadata": {},
   "outputs": [],
   "source": [
    "import annoy\n",
    "import numpy as np"
   ]
  },
  {
   "cell_type": "code",
   "execution_count": 2,
   "metadata": {},
   "outputs": [],
   "source": [
    "embedding_weights = np.random.normal(0, 1, (1000, 100))"
   ]
  },
  {
   "cell_type": "code",
   "execution_count": 3,
   "metadata": {},
   "outputs": [
    {
     "data": {
      "text/plain": [
       "numpy.ndarray"
      ]
     },
     "execution_count": 3,
     "metadata": {},
     "output_type": "execute_result"
    }
   ],
   "source": [
    "type(embedding_weights)"
   ]
  },
  {
   "cell_type": "code",
   "execution_count": 4,
   "metadata": {},
   "outputs": [
    {
     "data": {
      "text/plain": [
       "(1000, 100)"
      ]
     },
     "execution_count": 4,
     "metadata": {},
     "output_type": "execute_result"
    }
   ],
   "source": [
    "embedding_weights.shape"
   ]
  },
  {
   "cell_type": "code",
   "execution_count": 5,
   "metadata": {},
   "outputs": [
    {
     "data": {
      "text/plain": [
       "True"
      ]
     },
     "execution_count": 5,
     "metadata": {},
     "output_type": "execute_result"
    }
   ],
   "source": [
    "t = annoy.AnnoyIndex(embedding_weights.shape[1], metric='angular')\n",
    "for row in range(embedding_weights.shape[0]):\n",
    "    t.add_item(row, embedding_weights[row, :])\n",
    "\n",
    "Ntrees = 100\n",
    "t.build(Ntrees)"
   ]
  },
  {
   "cell_type": "markdown",
   "metadata": {},
   "source": [
    "## Search by vector"
   ]
  },
  {
   "cell_type": "code",
   "execution_count": 6,
   "metadata": {},
   "outputs": [],
   "source": [
    "neighbours = t.get_nns_by_vector(embedding_weights[0], n=10, search_k=10, include_distances=False)"
   ]
  },
  {
   "cell_type": "code",
   "execution_count": 7,
   "metadata": {},
   "outputs": [
    {
     "name": "stdout",
     "output_type": "stream",
     "text": [
      "[0, 616, 998, 733, 886, 930, 459, 176, 991, 894]\n"
     ]
    }
   ],
   "source": [
    "print(neighbours)"
   ]
  },
  {
   "cell_type": "code",
   "execution_count": 8,
   "metadata": {},
   "outputs": [],
   "source": [
    "neighbours = t.get_nns_by_vector(embedding_weights[0], n=10, search_k=10, include_distances=True) \n",
    "#smaller the distance better the match"
   ]
  },
  {
   "cell_type": "code",
   "execution_count": 9,
   "metadata": {},
   "outputs": [
    {
     "name": "stdout",
     "output_type": "stream",
     "text": [
      "([0, 616, 998, 733, 886, 930, 459, 176, 991, 894], [0.0, 1.2121661901474, 1.234415054321289, 1.249654769897461, 1.2596243619918823, 1.2633097171783447, 1.270654320716858, 1.2744632959365845, 1.2767930030822754, 1.2795202732086182])\n"
     ]
    }
   ],
   "source": [
    "print(neighbours)"
   ]
  },
  {
   "cell_type": "markdown",
   "metadata": {},
   "source": [
    "## Search by index"
   ]
  },
  {
   "cell_type": "code",
   "execution_count": 10,
   "metadata": {},
   "outputs": [],
   "source": [
    "neighbours = t.get_nns_by_item(0, n=10, search_k=10, include_distances=False)"
   ]
  },
  {
   "cell_type": "code",
   "execution_count": 11,
   "metadata": {},
   "outputs": [
    {
     "name": "stdout",
     "output_type": "stream",
     "text": [
      "[0, 616, 998, 733, 886, 930, 459, 176, 991, 894]\n"
     ]
    }
   ],
   "source": [
    "print(neighbours)"
   ]
  },
  {
   "cell_type": "code",
   "execution_count": 12,
   "metadata": {},
   "outputs": [],
   "source": [
    "neighbours = t.get_nns_by_item(0, n=10, search_k=10, include_distances=True)"
   ]
  },
  {
   "cell_type": "code",
   "execution_count": 13,
   "metadata": {},
   "outputs": [
    {
     "name": "stdout",
     "output_type": "stream",
     "text": [
      "([0, 616, 998, 733, 886, 930, 459, 176, 991, 894], [0.0, 1.2121661901474, 1.234415054321289, 1.249654769897461, 1.2596243619918823, 1.2633097171783447, 1.270654320716858, 1.2744632959365845, 1.2767930030822754, 1.2795202732086182])\n"
     ]
    }
   ],
   "source": [
    "print(neighbours)"
   ]
  },
  {
   "cell_type": "markdown",
   "metadata": {},
   "source": [
    "## Note\n",
    "Example of interest - you have dish names represented by vectors and you want to do nearest neighbour search to find closest matches:\n",
    "1. If N dishes are represented by N x d dimension matrix (i.e. each dish is represented by d dimension vector), create an mapping from index to dish name. E.g. if there are only 3 dishes represented by 100 dimension each the matrix size is (3 x 100) and the mapping may look like `{0: 'biryani',1: 'roti',2: 'pasta'}` and inverted mapping is `{'biryani': 0, 'roti': 1, 'pasta': 2}`\n",
    "2. Now when doing search for a dish, use inverted mapping to get its index and then use `get_nns_by_item` to get neighbouring indices which again can be mapped back to item names using inverted index created in step 1"
   ]
  },
  {
   "cell_type": "code",
   "execution_count": null,
   "metadata": {},
   "outputs": [],
   "source": []
  }
 ],
 "metadata": {
  "kernelspec": {
   "display_name": "Python 3",
   "language": "python",
   "name": "python3"
  },
  "language_info": {
   "codemirror_mode": {
    "name": "ipython",
    "version": 3
   },
   "file_extension": ".py",
   "mimetype": "text/x-python",
   "name": "python",
   "nbconvert_exporter": "python",
   "pygments_lexer": "ipython3",
   "version": "3.7.6"
  }
 },
 "nbformat": 4,
 "nbformat_minor": 2
}
