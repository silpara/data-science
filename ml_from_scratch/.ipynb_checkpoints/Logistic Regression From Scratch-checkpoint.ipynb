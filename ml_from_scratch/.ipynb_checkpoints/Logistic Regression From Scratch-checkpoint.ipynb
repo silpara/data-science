{
 "cells": [
  {
   "cell_type": "markdown",
   "metadata": {},
   "source": [
    "# Logistic Regression From Scratch"
   ]
  },
  {
   "cell_type": "markdown",
   "metadata": {},
   "source": [
    "$p_i = P[y_i=1|x_i] = \\displaystyle \\frac{1}{1 + e^{- \\beta^{T} x_i} }$\n",
    "\n",
    "$loss(\\beta) = \\displaystyle -\\frac{1}{N} \\big(\\sum_{i=1}^{N}y_i log(p_i) + (1 - y_i)log(1 - p_i)\\big)$&emsp;&emsp;[unregularized]\n",
    "\n",
    "$loss(\\beta) = \\displaystyle -\\frac{1}{N}\\big(\\sum_{i=1}^{N}y_i log(p_i) + (1 - y_i)log(1 - p_i)\\big) + \\lambda\\beta^T\\beta$&emsp;&emsp;[regularized]\n",
    "\n",
    "Relevent discussion on loss and derivative: https://math.stackexchange.com/questions/477207/derivative-of-cost-function-for-logistic-regression"
   ]
  },
  {
   "cell_type": "code",
   "execution_count": 1,
   "metadata": {},
   "outputs": [],
   "source": [
    "import numpy as np\n",
    "from sklearn.metrics import roc_auc_score\n",
    "from sklearn import datasets\n",
    "from sklearn.metrics import roc_curve\n",
    "import matplotlib.pyplot as plt"
   ]
  },
  {
   "cell_type": "code",
   "execution_count": 2,
   "metadata": {},
   "outputs": [],
   "source": [
    "class LogisticRegression:\n",
    "    def __init__(self, lr=0.01, epochs=100, l2=0.001):\n",
    "        self.lr = lr\n",
    "        self.epochs = epochs\n",
    "        self.l2 = l2\n",
    "        self.history = {'loss':[]}\n",
    "    \n",
    "    def predict_proba(self, X):\n",
    "        probs = 1 / (1 + np.exp(-self.beta[0] - np.dot(X, self.beta[1:].reshape(-1, 1))))\n",
    "        probs = probs.reshape(-1)\n",
    "        return probs\n",
    "    \n",
    "    def loss(self, X, Y):\n",
    "        probs = self.predict_proba(X)\n",
    "        loss = -1*(np.sum(np.log(probs) * Y) + np.sum(np.log(1 - probs) * (1 - Y)) / X.shape[0]) + self.l2*np.dot(self.beta, self.beta)\n",
    "        self.history['loss'].append(loss)\n",
    "        return loss\n",
    "        \n",
    "    def grad(self, X, Y):\n",
    "        g = (np.dot((self.predict_proba(X) - Y).reshape(-1, 1).T, np.hstack([np.ones((X.shape[0], 1)), X])).reshape(-1))/X.shape[0]\n",
    "        return g\n",
    "    \n",
    "    def train(self, X, Y, print_every_n=10):\n",
    "        N = X.shape[0]\n",
    "        self.beta = np.zeros(1+X.shape[1])\n",
    "        for epoch in range(self.epochs):\n",
    "            self.beta = self.beta - self.lr*self.grad(X, Y)\n",
    "            if (epoch+1)%print_every_n == 0:\n",
    "                print(\"loss : {}\".format(self.loss(X, Y)))"
   ]
  },
  {
   "cell_type": "markdown",
   "metadata": {},
   "source": [
    "#### Dummy data"
   ]
  },
  {
   "cell_type": "code",
   "execution_count": 3,
   "metadata": {},
   "outputs": [],
   "source": [
    "X = np.random.random((100, 10))\n",
    "X[:, 0] = np.ones(X.shape[0]) # setting 1st column for intercept\n",
    "Y = np.random.choice([0, 1], X.shape[0])"
   ]
  },
  {
   "cell_type": "code",
   "execution_count": 4,
   "metadata": {},
   "outputs": [],
   "source": [
    "lr = LogisticRegression(lr=1.0, epochs=1000, l2=0)"
   ]
  },
  {
   "cell_type": "code",
   "execution_count": 5,
   "metadata": {},
   "outputs": [
    {
     "name": "stdout",
     "output_type": "stream",
     "text": [
      "loss : 31.851953085258426\n",
      "loss : 31.757742481043202\n",
      "loss : 31.770348610305575\n",
      "loss : 31.780558576313936\n",
      "loss : 31.78416022935153\n",
      "loss : 31.78462787792267\n",
      "loss : 31.784049131058982\n",
      "loss : 31.783290106383387\n",
      "loss : 31.782637832780992\n",
      "loss : 31.782150625825796\n",
      "loss : 31.781810345879446\n",
      "loss : 31.78158141623999\n",
      "loss : 31.781430849588244\n",
      "loss : 31.781333237777552\n",
      "loss : 31.781270550146775\n",
      "loss : 31.78123054317196\n",
      "loss : 31.781205118035228\n",
      "loss : 31.781189005221847\n",
      "loss : 31.78117881280174\n",
      "loss : 31.781172373001112\n"
     ]
    }
   ],
   "source": [
    "lr.train(X, Y, print_every_n=50)"
   ]
  },
  {
   "cell_type": "code",
   "execution_count": 6,
   "metadata": {},
   "outputs": [
    {
     "name": "stdout",
     "output_type": "stream",
     "text": [
      "[ 0.13151637  0.13151637 -0.61519549 -0.6987306   0.38543324  0.87964535\n",
      " -0.59733375 -0.25267761  0.7977083   0.93940301 -0.86077688]\n"
     ]
    }
   ],
   "source": [
    "print(lr.beta)"
   ]
  },
  {
   "cell_type": "markdown",
   "metadata": {},
   "source": [
    "#### Iris dataset"
   ]
  },
  {
   "cell_type": "code",
   "execution_count": 7,
   "metadata": {},
   "outputs": [],
   "source": [
    "# import some data to play with\n",
    "iris = datasets.load_iris()\n",
    "X = iris.data[:, :2]  # we only take the first two features.\n",
    "X_scaled = (X - X.mean(axis=0, keepdims=True))/np.std(X, axis=0, keepdims=True)\n",
    "y = iris.target\n",
    "y[y > 0] = 1"
   ]
  },
  {
   "cell_type": "code",
   "execution_count": 8,
   "metadata": {},
   "outputs": [],
   "source": [
    "lr = LogisticRegression(lr=1.0, epochs=11, l2=0)\n",
    "lr.train(X_scaled, y, print_every_n=50)"
   ]
  },
  {
   "cell_type": "code",
   "execution_count": 9,
   "metadata": {},
   "outputs": [
    {
     "name": "stdout",
     "output_type": "stream",
     "text": [
      "[ 0.85705376  1.61613574 -1.29075476]\n"
     ]
    }
   ],
   "source": [
    "print(lr.beta)"
   ]
  },
  {
   "cell_type": "code",
   "execution_count": 10,
   "metadata": {},
   "outputs": [],
   "source": [
    "preds_scratch = lr.predict_proba(X_scaled)"
   ]
  },
  {
   "cell_type": "code",
   "execution_count": 11,
   "metadata": {},
   "outputs": [
    {
     "data": {
      "text/plain": [
       "0.9995999999999999"
      ]
     },
     "execution_count": 11,
     "metadata": {},
     "output_type": "execute_result"
    }
   ],
   "source": [
    "roc_auc_score(y, preds_scratch)"
   ]
  },
  {
   "cell_type": "markdown",
   "metadata": {},
   "source": [
    "### scikit-learn LogisticRegression model"
   ]
  },
  {
   "cell_type": "code",
   "execution_count": 12,
   "metadata": {},
   "outputs": [],
   "source": [
    "from sklearn.linear_model import LogisticRegression"
   ]
  },
  {
   "cell_type": "code",
   "execution_count": 13,
   "metadata": {},
   "outputs": [],
   "source": [
    "clf = LogisticRegression(random_state=0).fit(X_scaled, y)"
   ]
  },
  {
   "cell_type": "code",
   "execution_count": 14,
   "metadata": {},
   "outputs": [
    {
     "name": "stdout",
     "output_type": "stream",
     "text": [
      "[2.09559393] [[ 3.26932025 -2.13108828]] [11]\n"
     ]
    }
   ],
   "source": [
    "print(clf.intercept_, clf.coef_, clf.n_iter_)"
   ]
  },
  {
   "cell_type": "code",
   "execution_count": 15,
   "metadata": {},
   "outputs": [],
   "source": [
    "preds = clf.predict_proba(X_scaled)"
   ]
  },
  {
   "cell_type": "code",
   "execution_count": 16,
   "metadata": {},
   "outputs": [
    {
     "data": {
      "text/plain": [
       "1.0"
      ]
     },
     "execution_count": 16,
     "metadata": {},
     "output_type": "execute_result"
    }
   ],
   "source": [
    "roc_auc_score(y, preds[:,1])"
   ]
  },
  {
   "cell_type": "code",
   "execution_count": 17,
   "metadata": {},
   "outputs": [
    {
     "data": {
      "image/png": "[encoded data removed]",
      "text/plain": [
       "<Figure size 432x288 with 1 Axes>"
      ]
     },
     "metadata": {
      "needs_background": "light"
     },
     "output_type": "display_data"
    }
   ],
   "source": [
    "fpr_scratch, tpr_scratch, _ = roc_curve(y, preds_scratch)\n",
    "fpr, tpr, _ = roc_curve(y, preds[:,1])\n",
    "\n",
    "plt.figure(1)\n",
    "plt.plot([0, 1], [0, 1], 'k--')\n",
    "plt.plot(fpr_scratch, tpr_scratch, label='scratch')\n",
    "plt.plot(fpr, tpr, label='sklearn')\n",
    "plt.xlabel('False positive rate')\n",
    "plt.ylabel('True positive rate')\n",
    "plt.title('ROC curve')\n",
    "plt.legend(loc='best')\n",
    "plt.show()"
   ]
  },
  {
   "cell_type": "code",
   "execution_count": 18,
   "metadata": {},
   "outputs": [
    {
     "data": {
      "image/png": "[encoded data removed]",
      "text/plain": [
       "<Figure size 432x288 with 1 Axes>"
      ]
     },
     "metadata": {
      "needs_background": "light"
     },
     "output_type": "display_data"
    }
   ],
   "source": [
    "plt.figure(2)\n",
    "plt.xlim(0, 0.2)\n",
    "plt.ylim(0.8, 1)\n",
    "plt.plot([0, 1], [0, 1], 'k--')\n",
    "plt.plot(fpr_scratch, tpr_scratch, label='scratch')\n",
    "plt.plot(fpr, tpr, label='sklearn')\n",
    "plt.xlabel('False positive rate')\n",
    "plt.ylabel('True positive rate')\n",
    "plt.title('ROC curve (zoomed in at top left)')\n",
    "plt.legend(loc='best')\n",
    "plt.show()"
   ]
  },
  {
   "cell_type": "code",
   "execution_count": 19,
   "metadata": {},
   "outputs": [
    {
     "data": {
      "image/png": "[encoded data removed]",
      "text/plain": [
       "<Figure size 432x288 with 1 Axes>"
      ]
     },
     "metadata": {
      "needs_background": "light"
     },
     "output_type": "display_data"
    }
   ],
   "source": [
    "plt.figure(3)\n",
    "plt.plot([0, 1], [0, 1], 'k--')\n",
    "plt.scatter(preds_scratch, preds[:,1], label='scratch vs sklearn')\n",
    "plt.xlabel('sklearn')\n",
    "plt.ylabel('scratch')\n",
    "plt.title('scratch vs sklearn')\n",
    "plt.legend(loc='lower right')\n",
    "plt.show()"
   ]
  },
  {
   "cell_type": "code",
   "execution_count": null,
   "metadata": {},
   "outputs": [],
   "source": []
  }
 ],
 "metadata": {
  "kernelspec": {
   "display_name": "Python 3",
   "language": "python",
   "name": "python3"
  },
  "language_info": {
   "codemirror_mode": {
    "name": "ipython",
    "version": 3
   },
   "file_extension": ".py",
   "mimetype": "text/x-python",
   "name": "python",
   "nbconvert_exporter": "python",
   "pygments_lexer": "ipython3",
   "version": "3.7.6"
  }
 },
 "nbformat": 4,
 "nbformat_minor": 4
}
